{
  "nbformat": 4,
  "nbformat_minor": 0,
  "metadata": {
    "colab": {
      "provenance": [],
      "include_colab_link": true
    },
    "kernelspec": {
      "name": "python3",
      "display_name": "Python 3"
    },
    "language_info": {
      "name": "python"
    },
    "widgets": {
      "application/vnd.jupyter.widget-state+json": {
        "21524004284c492682c792c03280496b": {
          "model_module": "@jupyter-widgets/controls",
          "model_name": "HBoxModel",
          "model_module_version": "1.5.0",
          "state": {
            "_dom_classes": [],
            "_model_module": "@jupyter-widgets/controls",
            "_model_module_version": "1.5.0",
            "_model_name": "HBoxModel",
            "_view_count": null,
            "_view_module": "@jupyter-widgets/controls",
            "_view_module_version": "1.5.0",
            "_view_name": "HBoxView",
            "box_style": "",
            "children": [
              "IPY_MODEL_6a7cfbb29c0a499191c17370e9ab42cf",
              "IPY_MODEL_405e935e60b24a17ac25f479a661bc56",
              "IPY_MODEL_a00fc70ca2be4c6398c3bf39d6341aba"
            ],
            "layout": "IPY_MODEL_a4915c49afbd4ce0a83a57366690f9db"
          }
        },
        "6a7cfbb29c0a499191c17370e9ab42cf": {
          "model_module": "@jupyter-widgets/controls",
          "model_name": "HTMLModel",
          "model_module_version": "1.5.0",
          "state": {
            "_dom_classes": [],
            "_model_module": "@jupyter-widgets/controls",
            "_model_module_version": "1.5.0",
            "_model_name": "HTMLModel",
            "_view_count": null,
            "_view_module": "@jupyter-widgets/controls",
            "_view_module_version": "1.5.0",
            "_view_name": "HTMLView",
            "description": "",
            "description_tooltip": null,
            "layout": "IPY_MODEL_2ecddc0dc37a49f998a33e7e5ab6023a",
            "placeholder": "​",
            "style": "IPY_MODEL_c1177e7b67724c6ca6ef39a1ff5d6376",
            "value": "  0%"
          }
        },
        "405e935e60b24a17ac25f479a661bc56": {
          "model_module": "@jupyter-widgets/controls",
          "model_name": "FloatProgressModel",
          "model_module_version": "1.5.0",
          "state": {
            "_dom_classes": [],
            "_model_module": "@jupyter-widgets/controls",
            "_model_module_version": "1.5.0",
            "_model_name": "FloatProgressModel",
            "_view_count": null,
            "_view_module": "@jupyter-widgets/controls",
            "_view_module_version": "1.5.0",
            "_view_name": "ProgressView",
            "bar_style": "danger",
            "description": "",
            "description_tooltip": null,
            "layout": "IPY_MODEL_bd2c5db8486f48d290510a657e119e5e",
            "max": 50,
            "min": 0,
            "orientation": "horizontal",
            "style": "IPY_MODEL_4e9aa1ec03ca473486566d84189caf95",
            "value": 0
          }
        },
        "a00fc70ca2be4c6398c3bf39d6341aba": {
          "model_module": "@jupyter-widgets/controls",
          "model_name": "HTMLModel",
          "model_module_version": "1.5.0",
          "state": {
            "_dom_classes": [],
            "_model_module": "@jupyter-widgets/controls",
            "_model_module_version": "1.5.0",
            "_model_name": "HTMLModel",
            "_view_count": null,
            "_view_module": "@jupyter-widgets/controls",
            "_view_module_version": "1.5.0",
            "_view_name": "HTMLView",
            "description": "",
            "description_tooltip": null,
            "layout": "IPY_MODEL_dae1c60aada64eb3809d6d2e7e1ac46e",
            "placeholder": "​",
            "style": "IPY_MODEL_4f42b17f777840fa87320b89c07706d3",
            "value": " 0/50 [00:13&lt;?, ?it/s]"
          }
        },
        "a4915c49afbd4ce0a83a57366690f9db": {
          "model_module": "@jupyter-widgets/base",
          "model_name": "LayoutModel",
          "model_module_version": "1.2.0",
          "state": {
            "_model_module": "@jupyter-widgets/base",
            "_model_module_version": "1.2.0",
            "_model_name": "LayoutModel",
            "_view_count": null,
            "_view_module": "@jupyter-widgets/base",
            "_view_module_version": "1.2.0",
            "_view_name": "LayoutView",
            "align_content": null,
            "align_items": null,
            "align_self": null,
            "border": null,
            "bottom": null,
            "display": null,
            "flex": null,
            "flex_flow": null,
            "grid_area": null,
            "grid_auto_columns": null,
            "grid_auto_flow": null,
            "grid_auto_rows": null,
            "grid_column": null,
            "grid_gap": null,
            "grid_row": null,
            "grid_template_areas": null,
            "grid_template_columns": null,
            "grid_template_rows": null,
            "height": null,
            "justify_content": null,
            "justify_items": null,
            "left": null,
            "margin": null,
            "max_height": null,
            "max_width": null,
            "min_height": null,
            "min_width": null,
            "object_fit": null,
            "object_position": null,
            "order": null,
            "overflow": null,
            "overflow_x": null,
            "overflow_y": null,
            "padding": null,
            "right": null,
            "top": null,
            "visibility": null,
            "width": null
          }
        },
        "2ecddc0dc37a49f998a33e7e5ab6023a": {
          "model_module": "@jupyter-widgets/base",
          "model_name": "LayoutModel",
          "model_module_version": "1.2.0",
          "state": {
            "_model_module": "@jupyter-widgets/base",
            "_model_module_version": "1.2.0",
            "_model_name": "LayoutModel",
            "_view_count": null,
            "_view_module": "@jupyter-widgets/base",
            "_view_module_version": "1.2.0",
            "_view_name": "LayoutView",
            "align_content": null,
            "align_items": null,
            "align_self": null,
            "border": null,
            "bottom": null,
            "display": null,
            "flex": null,
            "flex_flow": null,
            "grid_area": null,
            "grid_auto_columns": null,
            "grid_auto_flow": null,
            "grid_auto_rows": null,
            "grid_column": null,
            "grid_gap": null,
            "grid_row": null,
            "grid_template_areas": null,
            "grid_template_columns": null,
            "grid_template_rows": null,
            "height": null,
            "justify_content": null,
            "justify_items": null,
            "left": null,
            "margin": null,
            "max_height": null,
            "max_width": null,
            "min_height": null,
            "min_width": null,
            "object_fit": null,
            "object_position": null,
            "order": null,
            "overflow": null,
            "overflow_x": null,
            "overflow_y": null,
            "padding": null,
            "right": null,
            "top": null,
            "visibility": null,
            "width": null
          }
        },
        "c1177e7b67724c6ca6ef39a1ff5d6376": {
          "model_module": "@jupyter-widgets/controls",
          "model_name": "DescriptionStyleModel",
          "model_module_version": "1.5.0",
          "state": {
            "_model_module": "@jupyter-widgets/controls",
            "_model_module_version": "1.5.0",
            "_model_name": "DescriptionStyleModel",
            "_view_count": null,
            "_view_module": "@jupyter-widgets/base",
            "_view_module_version": "1.2.0",
            "_view_name": "StyleView",
            "description_width": ""
          }
        },
        "bd2c5db8486f48d290510a657e119e5e": {
          "model_module": "@jupyter-widgets/base",
          "model_name": "LayoutModel",
          "model_module_version": "1.2.0",
          "state": {
            "_model_module": "@jupyter-widgets/base",
            "_model_module_version": "1.2.0",
            "_model_name": "LayoutModel",
            "_view_count": null,
            "_view_module": "@jupyter-widgets/base",
            "_view_module_version": "1.2.0",
            "_view_name": "LayoutView",
            "align_content": null,
            "align_items": null,
            "align_self": null,
            "border": null,
            "bottom": null,
            "display": null,
            "flex": null,
            "flex_flow": null,
            "grid_area": null,
            "grid_auto_columns": null,
            "grid_auto_flow": null,
            "grid_auto_rows": null,
            "grid_column": null,
            "grid_gap": null,
            "grid_row": null,
            "grid_template_areas": null,
            "grid_template_columns": null,
            "grid_template_rows": null,
            "height": null,
            "justify_content": null,
            "justify_items": null,
            "left": null,
            "margin": null,
            "max_height": null,
            "max_width": null,
            "min_height": null,
            "min_width": null,
            "object_fit": null,
            "object_position": null,
            "order": null,
            "overflow": null,
            "overflow_x": null,
            "overflow_y": null,
            "padding": null,
            "right": null,
            "top": null,
            "visibility": null,
            "width": null
          }
        },
        "4e9aa1ec03ca473486566d84189caf95": {
          "model_module": "@jupyter-widgets/controls",
          "model_name": "ProgressStyleModel",
          "model_module_version": "1.5.0",
          "state": {
            "_model_module": "@jupyter-widgets/controls",
            "_model_module_version": "1.5.0",
            "_model_name": "ProgressStyleModel",
            "_view_count": null,
            "_view_module": "@jupyter-widgets/base",
            "_view_module_version": "1.2.0",
            "_view_name": "StyleView",
            "bar_color": null,
            "description_width": ""
          }
        },
        "dae1c60aada64eb3809d6d2e7e1ac46e": {
          "model_module": "@jupyter-widgets/base",
          "model_name": "LayoutModel",
          "model_module_version": "1.2.0",
          "state": {
            "_model_module": "@jupyter-widgets/base",
            "_model_module_version": "1.2.0",
            "_model_name": "LayoutModel",
            "_view_count": null,
            "_view_module": "@jupyter-widgets/base",
            "_view_module_version": "1.2.0",
            "_view_name": "LayoutView",
            "align_content": null,
            "align_items": null,
            "align_self": null,
            "border": null,
            "bottom": null,
            "display": null,
            "flex": null,
            "flex_flow": null,
            "grid_area": null,
            "grid_auto_columns": null,
            "grid_auto_flow": null,
            "grid_auto_rows": null,
            "grid_column": null,
            "grid_gap": null,
            "grid_row": null,
            "grid_template_areas": null,
            "grid_template_columns": null,
            "grid_template_rows": null,
            "height": null,
            "justify_content": null,
            "justify_items": null,
            "left": null,
            "margin": null,
            "max_height": null,
            "max_width": null,
            "min_height": null,
            "min_width": null,
            "object_fit": null,
            "object_position": null,
            "order": null,
            "overflow": null,
            "overflow_x": null,
            "overflow_y": null,
            "padding": null,
            "right": null,
            "top": null,
            "visibility": null,
            "width": null
          }
        },
        "4f42b17f777840fa87320b89c07706d3": {
          "model_module": "@jupyter-widgets/controls",
          "model_name": "DescriptionStyleModel",
          "model_module_version": "1.5.0",
          "state": {
            "_model_module": "@jupyter-widgets/controls",
            "_model_module_version": "1.5.0",
            "_model_name": "DescriptionStyleModel",
            "_view_count": null,
            "_view_module": "@jupyter-widgets/base",
            "_view_module_version": "1.2.0",
            "_view_name": "StyleView",
            "description_width": ""
          }
        }
      }
    }
  },
  "cells": [
    {
      "cell_type": "markdown",
      "metadata": {
        "id": "view-in-github",
        "colab_type": "text"
      },
      "source": [
        "<a href=\"https://colab.research.google.com/github/yueguo1997/SNA_recommender_system/blob/main/Attempt_lightgcn.ipynb\" target=\"_parent\"><img src=\"https://colab.research.google.com/assets/colab-badge.svg\" alt=\"Open In Colab\"/></a>"
      ]
    },
    {
      "cell_type": "code",
      "execution_count": 1,
      "metadata": {
        "id": "hys0xnqpZdrx"
      },
      "outputs": [],
      "source": [
        "from google.colab import drive\n",
        "import os\n",
        "import networkx as nx\n",
        "import numpy as np\n",
        "import tensorflow as tf\n",
        "from tensorflow.keras.layers import Dense, Input\n",
        "from tensorflow.keras.models import Model\n",
        "from sklearn.preprocessing import OneHotEncoder"
      ]
    },
    {
      "cell_type": "code",
      "source": [
        "drive.mount('/content/drive')"
      ],
      "metadata": {
        "colab": {
          "base_uri": "https://localhost:8080/"
        },
        "id": "0qHchG6mgHCT",
        "outputId": "1bf771c2-64de-4bd9-b855-a9300d77dff1"
      },
      "execution_count": 2,
      "outputs": [
        {
          "output_type": "stream",
          "name": "stdout",
          "text": [
            "Mounted at /content/drive\n"
          ]
        }
      ]
    },
    {
      "cell_type": "code",
      "source": [
        "cur_path = \"/content/drive/My Drive/SNA final project/\"\n",
        "os.chdir(cur_path)\n",
        "!pwd"
      ],
      "metadata": {
        "colab": {
          "base_uri": "https://localhost:8080/"
        },
        "id": "0zOR5IZ8gHEF",
        "outputId": "04267832-0d54-4eaf-b3b1-e055edc4d95b"
      },
      "execution_count": 3,
      "outputs": [
        {
          "output_type": "stream",
          "name": "stdout",
          "text": [
            "/content/drive/.shortcut-targets-by-id/1U-wJrTdPijJ7a1_JTCOIC-Dhmdg7IQq7/SNA final project\n"
          ]
        }
      ]
    },
    {
      "cell_type": "code",
      "source": [
        "G_train = nx.read_graphml(\"train.graphml\")"
      ],
      "metadata": {
        "id": "t9zPS8DugHIR"
      },
      "execution_count": 4,
      "outputs": []
    },
    {
      "cell_type": "markdown",
      "source": [
        "# Node embedding"
      ],
      "metadata": {
        "id": "BK1iCO6jja3o"
      }
    },
    {
      "cell_type": "code",
      "source": [
        "%%capture\n",
        "# Environment Setup (note that capture silences the console output)\n",
        "!pip install -q torch-scatter -f https://data.pyg.org/whl/torch-1.10.0+cu113.html\n",
        "!pip install -q torch-sparse -f https://data.pyg.org/whl/torch-1.10.0+cu113.html\n",
        "!pip install -q git+https://github.com/pyg-team/pytorch_geometric.git\n",
        "\n",
        "!git clone https://github.com/pmaldonado/cs224w-project-data.git"
      ],
      "metadata": {
        "id": "wL1-W_KklNs7"
      },
      "execution_count": 8,
      "outputs": []
    },
    {
      "cell_type": "code",
      "source": [
        "# Standard library imports\n",
        "import random\n",
        "import time\n",
        "\n",
        "# Third-party imports\n",
        "import matplotlib.pyplot as plt\n",
        "import networkx as nx\n",
        "import numpy as np\n",
        "import pandas as pd\n",
        "pd.set_option('display.max_colwidth', None)\n",
        "\n",
        "import torch\n",
        "import torch.nn as nn\n",
        "import torch.nn.functional as F\n",
        "import torch.optim as optim\n",
        "# from torch.utils.data import Dataset, DataLoader\n",
        "import torch_geometric\n",
        "from torch_geometric.nn.conv import MessagePassing\n",
        "from torch_geometric.utils import degree\n",
        "\n",
        "from tqdm.notebook import tqdm\n",
        "from sklearn import preprocessing as pp\n",
        "from sklearn.model_selection import train_test_split\n",
        "import scipy.sparse as sp"
      ],
      "metadata": {
        "id": "-vFuXqlwjZ9D"
      },
      "execution_count": 9,
      "outputs": []
    },
    {
      "cell_type": "code",
      "source": [
        "device = torch.device(\"cuda:0\" if torch.cuda.is_available() else \"cpu\")\n",
        "device"
      ],
      "metadata": {
        "id": "bxmDFy0gjZ_G",
        "colab": {
          "base_uri": "https://localhost:8080/"
        },
        "outputId": "0560537c-603d-4e2c-b080-54ed119bb663"
      },
      "execution_count": 10,
      "outputs": [
        {
          "output_type": "execute_result",
          "data": {
            "text/plain": [
              "device(type='cpu')"
            ]
          },
          "metadata": {},
          "execution_count": 10
        }
      ]
    },
    {
      "cell_type": "code",
      "source": [
        "df = pd.read_csv('bonanza_buyer_item_seller_id_R_2.txt', sep='::', header=None, names=['buyer', 'item', 'seller', 'timestamp'])\n",
        "print(len(df))\n",
        "display(df.head(5))"
      ],
      "metadata": {
        "colab": {
          "base_uri": "https://localhost:8080/",
          "height": 280
        },
        "id": "sMNUwyx_6fnN",
        "outputId": "52f82db6-1c8c-4b76-dcbb-d6a6a4559cf8"
      },
      "execution_count": 11,
      "outputs": [
        {
          "output_type": "stream",
          "name": "stderr",
          "text": [
            "<ipython-input-11-8b01a50508b4>:1: ParserWarning: Falling back to the 'python' engine because the 'c' engine does not support regex separators (separators > 1 char and different from '\\s+' are interpreted as regex); you can avoid this warning by specifying engine='python'.\n",
            "  df = pd.read_csv('bonanza_buyer_item_seller_id_R_2.txt', sep='::', header=None, names=['buyer', 'item', 'seller', 'timestamp'])\n"
          ]
        },
        {
          "output_type": "stream",
          "name": "stdout",
          "text": [
            "39100\n"
          ]
        },
        {
          "output_type": "display_data",
          "data": {
            "text/plain": [
              "   buyer  item  seller     timestamp\n",
              "0      0     0       0  1.548565e+09\n",
              "1      0     0       1  1.548565e+09\n",
              "2      1     0       2  1.539144e+09\n",
              "3      2     0       3  1.528690e+09\n",
              "4      3     0       3  1.547701e+09"
            ],
            "text/html": [
              "\n",
              "  <div id=\"df-00632b35-460b-4af4-90e9-1241e3f1bbe5\">\n",
              "    <div class=\"colab-df-container\">\n",
              "      <div>\n",
              "<style scoped>\n",
              "    .dataframe tbody tr th:only-of-type {\n",
              "        vertical-align: middle;\n",
              "    }\n",
              "\n",
              "    .dataframe tbody tr th {\n",
              "        vertical-align: top;\n",
              "    }\n",
              "\n",
              "    .dataframe thead th {\n",
              "        text-align: right;\n",
              "    }\n",
              "</style>\n",
              "<table border=\"1\" class=\"dataframe\">\n",
              "  <thead>\n",
              "    <tr style=\"text-align: right;\">\n",
              "      <th></th>\n",
              "      <th>buyer</th>\n",
              "      <th>item</th>\n",
              "      <th>seller</th>\n",
              "      <th>timestamp</th>\n",
              "    </tr>\n",
              "  </thead>\n",
              "  <tbody>\n",
              "    <tr>\n",
              "      <th>0</th>\n",
              "      <td>0</td>\n",
              "      <td>0</td>\n",
              "      <td>0</td>\n",
              "      <td>1.548565e+09</td>\n",
              "    </tr>\n",
              "    <tr>\n",
              "      <th>1</th>\n",
              "      <td>0</td>\n",
              "      <td>0</td>\n",
              "      <td>1</td>\n",
              "      <td>1.548565e+09</td>\n",
              "    </tr>\n",
              "    <tr>\n",
              "      <th>2</th>\n",
              "      <td>1</td>\n",
              "      <td>0</td>\n",
              "      <td>2</td>\n",
              "      <td>1.539144e+09</td>\n",
              "    </tr>\n",
              "    <tr>\n",
              "      <th>3</th>\n",
              "      <td>2</td>\n",
              "      <td>0</td>\n",
              "      <td>3</td>\n",
              "      <td>1.528690e+09</td>\n",
              "    </tr>\n",
              "    <tr>\n",
              "      <th>4</th>\n",
              "      <td>3</td>\n",
              "      <td>0</td>\n",
              "      <td>3</td>\n",
              "      <td>1.547701e+09</td>\n",
              "    </tr>\n",
              "  </tbody>\n",
              "</table>\n",
              "</div>\n",
              "      <button class=\"colab-df-convert\" onclick=\"convertToInteractive('df-00632b35-460b-4af4-90e9-1241e3f1bbe5')\"\n",
              "              title=\"Convert this dataframe to an interactive table.\"\n",
              "              style=\"display:none;\">\n",
              "        \n",
              "  <svg xmlns=\"http://www.w3.org/2000/svg\" height=\"24px\"viewBox=\"0 0 24 24\"\n",
              "       width=\"24px\">\n",
              "    <path d=\"M0 0h24v24H0V0z\" fill=\"none\"/>\n",
              "    <path d=\"M18.56 5.44l.94 2.06.94-2.06 2.06-.94-2.06-.94-.94-2.06-.94 2.06-2.06.94zm-11 1L8.5 8.5l.94-2.06 2.06-.94-2.06-.94L8.5 2.5l-.94 2.06-2.06.94zm10 10l.94 2.06.94-2.06 2.06-.94-2.06-.94-.94-2.06-.94 2.06-2.06.94z\"/><path d=\"M17.41 7.96l-1.37-1.37c-.4-.4-.92-.59-1.43-.59-.52 0-1.04.2-1.43.59L10.3 9.45l-7.72 7.72c-.78.78-.78 2.05 0 2.83L4 21.41c.39.39.9.59 1.41.59.51 0 1.02-.2 1.41-.59l7.78-7.78 2.81-2.81c.8-.78.8-2.07 0-2.86zM5.41 20L4 18.59l7.72-7.72 1.47 1.35L5.41 20z\"/>\n",
              "  </svg>\n",
              "      </button>\n",
              "      \n",
              "  <style>\n",
              "    .colab-df-container {\n",
              "      display:flex;\n",
              "      flex-wrap:wrap;\n",
              "      gap: 12px;\n",
              "    }\n",
              "\n",
              "    .colab-df-convert {\n",
              "      background-color: #E8F0FE;\n",
              "      border: none;\n",
              "      border-radius: 50%;\n",
              "      cursor: pointer;\n",
              "      display: none;\n",
              "      fill: #1967D2;\n",
              "      height: 32px;\n",
              "      padding: 0 0 0 0;\n",
              "      width: 32px;\n",
              "    }\n",
              "\n",
              "    .colab-df-convert:hover {\n",
              "      background-color: #E2EBFA;\n",
              "      box-shadow: 0px 1px 2px rgba(60, 64, 67, 0.3), 0px 1px 3px 1px rgba(60, 64, 67, 0.15);\n",
              "      fill: #174EA6;\n",
              "    }\n",
              "\n",
              "    [theme=dark] .colab-df-convert {\n",
              "      background-color: #3B4455;\n",
              "      fill: #D2E3FC;\n",
              "    }\n",
              "\n",
              "    [theme=dark] .colab-df-convert:hover {\n",
              "      background-color: #434B5C;\n",
              "      box-shadow: 0px 1px 3px 1px rgba(0, 0, 0, 0.15);\n",
              "      filter: drop-shadow(0px 1px 2px rgba(0, 0, 0, 0.3));\n",
              "      fill: #FFFFFF;\n",
              "    }\n",
              "  </style>\n",
              "\n",
              "      <script>\n",
              "        const buttonEl =\n",
              "          document.querySelector('#df-00632b35-460b-4af4-90e9-1241e3f1bbe5 button.colab-df-convert');\n",
              "        buttonEl.style.display =\n",
              "          google.colab.kernel.accessAllowed ? 'block' : 'none';\n",
              "\n",
              "        async function convertToInteractive(key) {\n",
              "          const element = document.querySelector('#df-00632b35-460b-4af4-90e9-1241e3f1bbe5');\n",
              "          const dataTable =\n",
              "            await google.colab.kernel.invokeFunction('convertToInteractive',\n",
              "                                                     [key], {});\n",
              "          if (!dataTable) return;\n",
              "\n",
              "          const docLinkHtml = 'Like what you see? Visit the ' +\n",
              "            '<a target=\"_blank\" href=https://colab.research.google.com/notebooks/data_table.ipynb>data table notebook</a>'\n",
              "            + ' to learn more about interactive tables.';\n",
              "          element.innerHTML = '';\n",
              "          dataTable['output_type'] = 'display_data';\n",
              "          await google.colab.output.renderOutput(dataTable, element);\n",
              "          const docLink = document.createElement('div');\n",
              "          docLink.innerHTML = docLinkHtml;\n",
              "          element.appendChild(docLink);\n",
              "        }\n",
              "      </script>\n",
              "    </div>\n",
              "  </div>\n",
              "  "
            ]
          },
          "metadata": {}
        }
      ]
    },
    {
      "cell_type": "code",
      "source": [
        "train, test = train_test_split(df.values, test_size=0.2, random_state=16)\n",
        "train_df = pd.DataFrame(train, columns=df.columns)\n",
        "test_df = pd.DataFrame(test, columns=df.columns)"
      ],
      "metadata": {
        "id": "akGWoj4F8icI"
      },
      "execution_count": 40,
      "outputs": []
    },
    {
      "cell_type": "code",
      "source": [
        "le_user = pp.LabelEncoder()\n",
        "le_item = pp.LabelEncoder()\n",
        "train_df['user_id_idx'] = le_user.fit_transform(train_df['buyer'].values)\n",
        "train_df['item_id_idx'] = le_item.fit_transform(train_df['item'].values)"
      ],
      "metadata": {
        "id": "GILDDJP7817b"
      },
      "execution_count": 45,
      "outputs": []
    },
    {
      "cell_type": "code",
      "source": [
        "train_user_ids = train_df['buyer'].unique()\n",
        "train_item_ids = train_df['item'].unique()\n",
        "\n",
        "print(len(train_user_ids), len(train_item_ids))"
      ],
      "metadata": {
        "id": "HuQ-g66T9TsA"
      },
      "execution_count": null,
      "outputs": []
    },
    {
      "cell_type": "code",
      "source": [
        "test_df = test_df[\n",
        "  (test_df['buyer'].isin(train_user_ids)) & \\\n",
        "  (test_df['item'].isin(train_item_ids))\n",
        "]\n",
        "print(len(test))\n",
        "test_df['user_id_idx'] = le_user.transform(test_df['buyer'].values)\n",
        "test_df['item_id_idx'] = le_item.transform(test_df['item'].values)"
      ],
      "metadata": {
        "colab": {
          "base_uri": "https://localhost:8080/"
        },
        "id": "92GOUXVvBqbR",
        "outputId": "61fb9e81-c1b2-472e-918e-2c4fc22b7823"
      },
      "execution_count": 43,
      "outputs": [
        {
          "output_type": "stream",
          "name": "stdout",
          "text": [
            "7820\n"
          ]
        }
      ]
    },
    {
      "cell_type": "code",
      "source": [
        "n_users = train_df['user_id_idx'].nunique()\n",
        "n_items = train_df['item_id_idx'].nunique()\n",
        "print(\"Number of Unique Users : \", n_users)\n",
        "print(\"Number of unique Items : \", n_items)"
      ],
      "metadata": {
        "id": "0S7ZqjiBjaA7",
        "colab": {
          "base_uri": "https://localhost:8080/"
        },
        "outputId": "c4abb611-375d-4ade-ae94-ac440c307e46"
      },
      "execution_count": 46,
      "outputs": [
        {
          "output_type": "stream",
          "name": "stdout",
          "text": [
            "Number of Unique Users :  8354\n",
            "Number of unique Items :  2875\n"
          ]
        }
      ]
    },
    {
      "cell_type": "code",
      "source": [
        "def data_loader(data, batch_size, n_usr, n_itm):\n",
        "\n",
        "    def sample_neg(x):\n",
        "        while True:\n",
        "            neg_id = random.randint(0, n_itm - 1)\n",
        "            if neg_id not in x:\n",
        "                return neg_id\n",
        "\n",
        "    interected_items_df = data.groupby('user_id_idx')['item_id_idx'].apply(list).reset_index()\n",
        "    indices = [x for x in range(n_usr)]\n",
        "\n",
        "    if n_usr < batch_size:\n",
        "        users = [random.choice(indices) for _ in range(batch_size)]\n",
        "    else:\n",
        "        users = random.sample(indices, batch_size)\n",
        "    users.sort()\n",
        "    users_df = pd.DataFrame(users,columns = ['users'])\n",
        "\n",
        "    interected_items_df = pd.merge(interected_items_df, users_df, how = 'right', left_on = 'user_id_idx', right_on = 'users')\n",
        "    pos_items = interected_items_df['item_id_idx'].apply(lambda x : random.choice(x)).values\n",
        "    neg_items = interected_items_df['item_id_idx'].apply(lambda x: sample_neg(x)).values\n",
        "\n",
        "    return (\n",
        "        torch.LongTensor(list(users)).to(device), \n",
        "        torch.LongTensor(list(pos_items)).to(device) + n_usr, \n",
        "        torch.LongTensor(list(neg_items)).to(device) + n_usr\n",
        "    )\n",
        "\n",
        "data_loader(train_df, 16, n_users, n_items)"
      ],
      "metadata": {
        "id": "P8xcAOerjaDB",
        "colab": {
          "base_uri": "https://localhost:8080/"
        },
        "outputId": "aca072c8-493b-43ea-c957-3a0f913bb5e5"
      },
      "execution_count": 47,
      "outputs": [
        {
          "output_type": "execute_result",
          "data": {
            "text/plain": [
              "(tensor([ 378,  426,  518,  574, 1974, 2052, 2057, 2475, 3241, 3315, 3509, 7405,\n",
              "         7554, 7721, 7877, 7984]),\n",
              " tensor([ 9050,  8407,  8455,  9702,  8564,  8575,  8564,  8599,  8599,  8599,\n",
              "          8599, 10165, 10201, 10354, 10520, 10539]),\n",
              " tensor([ 9016, 11020, 10679,  8823, 10979, 10138, 10462,  8781,  9952,  9159,\n",
              "          9158,  9362, 10809,  8977,  9931, 10599]))"
            ]
          },
          "metadata": {},
          "execution_count": 47
        }
      ]
    },
    {
      "cell_type": "code",
      "source": [
        "u_t = torch.LongTensor(train_df.user_id_idx)\n",
        "i_t = torch.LongTensor(train_df.item_id_idx) + n_users\n",
        "\n",
        "train_edge_index = torch.stack((\n",
        "  torch.cat([u_t, i_t]),\n",
        "  torch.cat([i_t, u_t])\n",
        ")).to(device)\n",
        "train_edge_index"
      ],
      "metadata": {
        "colab": {
          "base_uri": "https://localhost:8080/"
        },
        "id": "3MulJqdUB2-v",
        "outputId": "8ff0f966-8a2f-414c-e4db-e017e359710e"
      },
      "execution_count": 48,
      "outputs": [
        {
          "output_type": "execute_result",
          "data": {
            "text/plain": [
              "tensor([[ 1707,   383,   393,  ..., 10410, 10394,  8415],\n",
              "        [ 8524,  8407,  8519,  ...,  4531,  7756,   421]])"
            ]
          },
          "metadata": {},
          "execution_count": 48
        }
      ]
    },
    {
      "cell_type": "code",
      "source": [
        "train_edge_index[:,-1], train_edge_index[:, 0]"
      ],
      "metadata": {
        "colab": {
          "base_uri": "https://localhost:8080/"
        },
        "id": "LwCSaEcGB4aQ",
        "outputId": "a8b93b7f-1234-4551-bddf-923820cf2e74"
      },
      "execution_count": 49,
      "outputs": [
        {
          "output_type": "execute_result",
          "data": {
            "text/plain": [
              "(tensor([8415,  421]), tensor([1707, 8524]))"
            ]
          },
          "metadata": {},
          "execution_count": 49
        }
      ]
    },
    {
      "cell_type": "code",
      "source": [
        "train_edge_index[:, len(train_df)-1], train_edge_index[:, len(train_df)]"
      ],
      "metadata": {
        "colab": {
          "base_uri": "https://localhost:8080/"
        },
        "id": "o_0573URB4oV",
        "outputId": "92b32040-720d-4a28-94d6-ab4bdf4bc6dd"
      },
      "execution_count": 50,
      "outputs": [
        {
          "output_type": "execute_result",
          "data": {
            "text/plain": [
              "(tensor([ 421, 8415]), tensor([8524, 1707]))"
            ]
          },
          "metadata": {},
          "execution_count": 50
        }
      ]
    },
    {
      "cell_type": "code",
      "source": [
        "class LightGCNConv(MessagePassing):\n",
        "  def __init__(self, **kwargs):  \n",
        "    super().__init__(aggr='add')\n",
        "\n",
        "  def forward(self, x, edge_index):\n",
        "    # Compute normalization\n",
        "    from_, to_ = edge_index\n",
        "    deg = degree(to_, x.size(0), dtype=x.dtype)\n",
        "    deg_inv_sqrt = deg.pow(-0.5)\n",
        "    deg_inv_sqrt[deg_inv_sqrt == float('inf')] = 0\n",
        "    norm = deg_inv_sqrt[from_] * deg_inv_sqrt[to_]\n",
        "\n",
        "    # Start propagating messages (no update after aggregation)\n",
        "    return self.propagate(edge_index, x=x, norm=norm)\n",
        "\n",
        "  def message(self, x_j, norm):\n",
        "    return norm.view(-1, 1) * x_j"
      ],
      "metadata": {
        "id": "MO6G6civB4zQ"
      },
      "execution_count": 51,
      "outputs": []
    },
    {
      "cell_type": "code",
      "source": [
        "class NGCFConv(MessagePassing):\n",
        "  def __init__(self, latent_dim, dropout, bias=True, **kwargs):  \n",
        "    super(NGCFConv, self).__init__(aggr='add', **kwargs)\n",
        "\n",
        "    self.dropout = dropout\n",
        "\n",
        "    self.lin_1 = nn.Linear(latent_dim, latent_dim, bias=bias)\n",
        "    self.lin_2 = nn.Linear(latent_dim, latent_dim, bias=bias)\n",
        "\n",
        "    self.init_parameters()\n",
        "\n",
        "\n",
        "  def init_parameters(self):\n",
        "    nn.init.xavier_uniform_(self.lin_1.weight)\n",
        "    nn.init.xavier_uniform_(self.lin_2.weight)\n",
        "\n",
        "\n",
        "  def forward(self, x, edge_index):\n",
        "    # Compute normalization\n",
        "    from_, to_ = edge_index\n",
        "    deg = degree(to_, x.size(0), dtype=x.dtype)\n",
        "    deg_inv_sqrt = deg.pow(-0.5)\n",
        "    deg_inv_sqrt[deg_inv_sqrt == float('inf')] = 0\n",
        "    norm = deg_inv_sqrt[from_] * deg_inv_sqrt[to_]\n",
        "\n",
        "    # Start propagating messages\n",
        "    out = self.propagate(edge_index, x=(x, x), norm=norm)\n",
        "\n",
        "    # Perform update after aggregation\n",
        "    out += self.lin_1(x)\n",
        "    out = F.dropout(out, self.dropout, self.training)\n",
        "    return F.leaky_relu(out)\n",
        "\n",
        "\n",
        "  def message(self, x_j, x_i, norm):\n",
        "    return norm.view(-1, 1) * (self.lin_1(x_j) + self.lin_2(x_j * x_i))"
      ],
      "metadata": {
        "id": "cPP0rWB1CW8m"
      },
      "execution_count": 52,
      "outputs": []
    },
    {
      "cell_type": "code",
      "source": [
        "class RecSysGNN(nn.Module):\n",
        "  def __init__(\n",
        "      self,\n",
        "      latent_dim, \n",
        "      num_layers,\n",
        "      num_users,\n",
        "      num_items,\n",
        "      model, # 'NGCF' or 'LightGCN'\n",
        "      dropout=0.1 # Only used in NGCF\n",
        "  ):\n",
        "    super(RecSysGNN, self).__init__()\n",
        "\n",
        "    assert (model == 'NGCF' or model == 'LightGCN'), \\\n",
        "        'Model must be NGCF or LightGCN'\n",
        "    self.model = model\n",
        "    self.embedding = nn.Embedding(num_users + num_items, latent_dim)\n",
        "\n",
        "    if self.model == 'NGCF':\n",
        "      self.convs = nn.ModuleList(\n",
        "        NGCFConv(latent_dim, dropout=dropout) for _ in range(num_layers)\n",
        "      )\n",
        "    else:\n",
        "      self.convs = nn.ModuleList(LightGCNConv() for _ in range(num_layers))\n",
        "\n",
        "    self.init_parameters()\n",
        "\n",
        "\n",
        "  def init_parameters(self):\n",
        "    if self.model == 'NGCF':\n",
        "      nn.init.xavier_uniform_(self.embedding.weight, gain=1)\n",
        "    else:\n",
        "      # Authors of LightGCN report higher results with normal initialization\n",
        "      nn.init.normal_(self.embedding.weight, std=0.1) \n",
        "\n",
        "\n",
        "  def forward(self, edge_index):\n",
        "    emb0 = self.embedding.weight\n",
        "    embs = [emb0]\n",
        "\n",
        "    emb = emb0\n",
        "    for conv in self.convs:\n",
        "      emb = conv(x=emb, edge_index=edge_index)\n",
        "      embs.append(emb)\n",
        "\n",
        "    out = (\n",
        "      torch.cat(embs, dim=-1) if self.model == 'NGCF' \n",
        "      else torch.mean(torch.stack(embs, dim=0), dim=0)\n",
        "    )\n",
        "    \n",
        "    return emb0, out\n",
        "\n",
        "\n",
        "  def encode_minibatch(self, users, pos_items, neg_items, edge_index):\n",
        "    emb0, out = self(edge_index)\n",
        "    return (\n",
        "        out[users], \n",
        "        out[pos_items], \n",
        "        out[neg_items], \n",
        "        emb0[users],\n",
        "        emb0[pos_items],\n",
        "        emb0[neg_items]\n",
        "    )"
      ],
      "metadata": {
        "id": "lnB6xtImCW_U"
      },
      "execution_count": 53,
      "outputs": []
    },
    {
      "cell_type": "code",
      "source": [
        "def compute_bpr_loss(users, users_emb, pos_emb, neg_emb, user_emb0,  pos_emb0, neg_emb0):\n",
        "  # compute loss from initial embeddings, used for regulization\n",
        "  reg_loss = (1 / 2) * (\n",
        "    user_emb0.norm().pow(2) + \n",
        "    pos_emb0.norm().pow(2)  +\n",
        "    neg_emb0.norm().pow(2)\n",
        "  ) / float(len(users))\n",
        "  \n",
        "  # compute BPR loss from user, positive item, and negative item embeddings\n",
        "  pos_scores = torch.mul(users_emb, pos_emb).sum(dim=1)\n",
        "  neg_scores = torch.mul(users_emb, neg_emb).sum(dim=1)\n",
        "      \n",
        "  bpr_loss = torch.mean(F.softplus(neg_scores - pos_scores))\n",
        "      \n",
        "  return bpr_loss, reg_loss"
      ],
      "metadata": {
        "id": "wzcGdZSbCXCP"
      },
      "execution_count": 54,
      "outputs": []
    },
    {
      "cell_type": "code",
      "source": [
        "def get_metrics(user_Embed_wts, item_Embed_wts, n_users, n_items, train_data, test_data, K):\n",
        "  test_user_ids = torch.LongTensor(test_data['user_id_idx'].unique())\n",
        "  # compute the score of all user-item pairs\n",
        "  relevance_score = torch.matmul(user_Embed_wts, torch.transpose(item_Embed_wts,0, 1))\n",
        "\n",
        "  # create dense tensor of all user-item interactions\n",
        "  i = torch.stack((\n",
        "    torch.LongTensor(train_df['user_id_idx'].values),\n",
        "    torch.LongTensor(train_df['item_id_idx'].values)\n",
        "  ))\n",
        "  v = torch.ones((len(train_df)), dtype=torch.float64)\n",
        "  interactions_t = torch.sparse.FloatTensor(i, v, (n_users, n_items))\\\n",
        "      .to_dense().to(device)\n",
        "  \n",
        "  # mask out training user-item interactions from metric computation\n",
        "  relevance_score = torch.mul(relevance_score, (1 - interactions_t))\n",
        "\n",
        "  # compute top scoring items for each user\n",
        "  topk_relevance_indices = torch.topk(relevance_score, K).indices\n",
        "  topk_relevance_indices_df = pd.DataFrame(topk_relevance_indices.cpu().numpy(),columns =['top_indx_'+str(x+1) for x in range(K)])\n",
        "  topk_relevance_indices_df['user_ID'] = topk_relevance_indices_df.index\n",
        "  topk_relevance_indices_df['top_rlvnt_itm'] = topk_relevance_indices_df[['top_indx_'+str(x+1) for x in range(K)]].values.tolist()\n",
        "  topk_relevance_indices_df = topk_relevance_indices_df[['user_ID','top_rlvnt_itm']]\n",
        "\n",
        "  # measure overlap between recommended (top-scoring) and held-out user-item \n",
        "  # interactions\n",
        "  test_interacted_items = test_data.groupby('user_id_idx')['item_id_idx'].apply(list).reset_index()\n",
        "  metrics_df = pd.merge(test_interacted_items,topk_relevance_indices_df, how= 'left', left_on = 'user_id_idx',right_on = ['user_ID'])\n",
        "  metrics_df['intrsctn_itm'] = [list(set(a).intersection(b)) of for a, b in zip(metrics_df.item_id_idx, metrics_df.top_rlvnt_itm)]\n",
        "\n",
        "  metrics_df['recall'] = metrics_df.apply(lambda x : len(x['intrsctn_itm'])/len(x['item_id_idx']), axis = 1) \n",
        "  metrics_df['precision'] = metrics_df.apply(lambda x : len(x['intrsctn_itm'])/K, axis = 1)\n",
        "\n",
        "  return metrics_df['recall'].mean(), metrics_df['precision'].mean()"
      ],
      "metadata": {
        "id": "V9-31ef5CXFB"
      },
      "execution_count": 55,
      "outputs": []
    },
    {
      "cell_type": "code",
      "source": [
        "latent_dim = 64\n",
        "n_layers = 3 \n",
        "\n",
        "EPOCHS = 50\n",
        "BATCH_SIZE = 1024\n",
        "DECAY = 0.0001\n",
        "LR = 0.005 \n",
        "K = 20"
      ],
      "metadata": {
        "id": "yGiPBxi1CXIM"
      },
      "execution_count": 56,
      "outputs": []
    },
    {
      "cell_type": "code",
      "source": [
        "def train_and_eval(model, optimizer, train_df):\n",
        "  loss_list_epoch = []\n",
        "  bpr_loss_list_epoch = []\n",
        "  reg_loss_list_epoch = []\n",
        "\n",
        "  recall_list = []\n",
        "  precision_list = []\n",
        "\n",
        "  for epoch in tqdm(range(EPOCHS)):\n",
        "      n_batch = int(len(train_df)/BATCH_SIZE)\n",
        "    \n",
        "      final_loss_list = []\n",
        "      bpr_loss_list = []\n",
        "      reg_loss_list = []\n",
        "    \n",
        "      model.train()\n",
        "      for batch_idx in range(n_batch):\n",
        "\n",
        "          optimizer.zero_grad()\n",
        "\n",
        "          users, pos_items, neg_items = data_loader(train_df, BATCH_SIZE, n_users, n_items)\n",
        "          users_emb, pos_emb, neg_emb, userEmb0,  posEmb0, negEmb0 = model.encode_minibatch(users, pos_items, neg_items, train_edge_index)\n",
        "\n",
        "          bpr_loss, reg_loss = compute_bpr_loss(\n",
        "            users, users_emb, pos_emb, neg_emb, userEmb0,  posEmb0, negEmb0\n",
        "          )\n",
        "          reg_loss = DECAY * reg_loss\n",
        "          final_loss = bpr_loss + reg_loss\n",
        "\n",
        "          final_loss.backward()\n",
        "          optimizer.step()\n",
        "\n",
        "          final_loss_list.append(final_loss.item())\n",
        "          bpr_loss_list.append(bpr_loss.item())\n",
        "          reg_loss_list.append(reg_loss.item())\n",
        "\n",
        "      model.eval()\n",
        "      with torch.no_grad():\n",
        "          _, out = model(train_edge_index)\n",
        "          final_user_Embed, final_item_Embed = torch.split(out, (n_users, n_items))\n",
        "          test_topK_recall,  test_topK_precision = get_metrics(\n",
        "            final_user_Embed, final_item_Embed, n_users, n_items, train_df, test_df, K\n",
        "          )\n",
        "\n",
        "      loss_list_epoch.append(round(np.mean(final_loss_list),4))\n",
        "      bpr_loss_list_epoch.append(round(np.mean(bpr_loss_list),4))\n",
        "      reg_loss_list_epoch.append(round(np.mean(reg_loss_list),4))\n",
        "\n",
        "      recall_list.append(round(test_topK_recall,4))\n",
        "      precision_list.append(round(test_topK_precision,4))\n",
        "\n",
        "  return (\n",
        "    loss_list_epoch, \n",
        "    bpr_loss_list_epoch, \n",
        "    reg_loss_list_epoch, \n",
        "    recall_list, \n",
        "    precision_list\n",
        "  )"
      ],
      "metadata": {
        "id": "FeefJJMhDFgG"
      },
      "execution_count": 57,
      "outputs": []
    },
    {
      "cell_type": "code",
      "source": [
        "lightgcn = RecSysGNN(\n",
        "  latent_dim=latent_dim, \n",
        "  num_layers=n_layers,\n",
        "  num_users=n_users,\n",
        "  num_items=n_items,\n",
        "  model='LightGCN'\n",
        ")\n",
        "lightgcn.to(device)\n",
        "\n",
        "optimizer = torch.optim.Adam(lightgcn.parameters(), lr=LR)\n",
        "print(\"Size of Learnable Embedding : \", [x.shape for x in list(lightgcn.parameters())])"
      ],
      "metadata": {
        "colab": {
          "base_uri": "https://localhost:8080/"
        },
        "id": "3Js1GoBRCXLI",
        "outputId": "2b2402fe-23f2-4447-8e72-5438297a7bb6"
      },
      "execution_count": 58,
      "outputs": [
        {
          "output_type": "stream",
          "name": "stdout",
          "text": [
            "Size of Learnable Embedding :  [torch.Size([11229, 64])]\n"
          ]
        }
      ]
    },
    {
      "cell_type": "code",
      "source": [
        "light_loss, light_bpr, light_reg, light_recall, light_precision = train_and_eval(lightgcn, optimizer, train_df)"
      ],
      "metadata": {
        "id": "iXfsuJlcy3FT",
        "colab": {
          "base_uri": "https://localhost:8080/",
          "height": 442,
          "referenced_widgets": [
            "21524004284c492682c792c03280496b",
            "6a7cfbb29c0a499191c17370e9ab42cf",
            "405e935e60b24a17ac25f479a661bc56",
            "a00fc70ca2be4c6398c3bf39d6341aba",
            "a4915c49afbd4ce0a83a57366690f9db",
            "2ecddc0dc37a49f998a33e7e5ab6023a",
            "c1177e7b67724c6ca6ef39a1ff5d6376",
            "bd2c5db8486f48d290510a657e119e5e",
            "4e9aa1ec03ca473486566d84189caf95",
            "dae1c60aada64eb3809d6d2e7e1ac46e",
            "4f42b17f777840fa87320b89c07706d3"
          ]
        },
        "outputId": "9a48f917-8942-4421-d6a3-46b8400e693a"
      },
      "execution_count": 59,
      "outputs": [
        {
          "output_type": "display_data",
          "data": {
            "text/plain": [
              "  0%|          | 0/50 [00:00<?, ?it/s]"
            ],
            "application/vnd.jupyter.widget-view+json": {
              "version_major": 2,
              "version_minor": 0,
              "model_id": "21524004284c492682c792c03280496b"
            }
          },
          "metadata": {}
        },
        {
          "output_type": "error",
          "ename": "TypeError",
          "evalue": "ignored",
          "traceback": [
            "\u001b[0;31m---------------------------------------------------------------------------\u001b[0m",
            "\u001b[0;31mTypeError\u001b[0m                                 Traceback (most recent call last)",
            "\u001b[0;32m<ipython-input-59-d8d097198c1e>\u001b[0m in \u001b[0;36m<cell line: 1>\u001b[0;34m()\u001b[0m\n\u001b[0;32m----> 1\u001b[0;31m \u001b[0mlight_loss\u001b[0m\u001b[0;34m,\u001b[0m \u001b[0mlight_bpr\u001b[0m\u001b[0;34m,\u001b[0m \u001b[0mlight_reg\u001b[0m\u001b[0;34m,\u001b[0m \u001b[0mlight_recall\u001b[0m\u001b[0;34m,\u001b[0m \u001b[0mlight_precision\u001b[0m \u001b[0;34m=\u001b[0m \u001b[0mtrain_and_eval\u001b[0m\u001b[0;34m(\u001b[0m\u001b[0mlightgcn\u001b[0m\u001b[0;34m,\u001b[0m \u001b[0moptimizer\u001b[0m\u001b[0;34m,\u001b[0m \u001b[0mtrain_df\u001b[0m\u001b[0;34m)\u001b[0m\u001b[0;34m\u001b[0m\u001b[0;34m\u001b[0m\u001b[0m\n\u001b[0m",
            "\u001b[0;32m<ipython-input-57-3b8e4a1e18e1>\u001b[0m in \u001b[0;36mtrain_and_eval\u001b[0;34m(model, optimizer, train_df)\u001b[0m\n\u001b[1;32m     39\u001b[0m           \u001b[0m_\u001b[0m\u001b[0;34m,\u001b[0m \u001b[0mout\u001b[0m \u001b[0;34m=\u001b[0m \u001b[0mmodel\u001b[0m\u001b[0;34m(\u001b[0m\u001b[0mtrain_edge_index\u001b[0m\u001b[0;34m)\u001b[0m\u001b[0;34m\u001b[0m\u001b[0;34m\u001b[0m\u001b[0m\n\u001b[1;32m     40\u001b[0m           \u001b[0mfinal_user_Embed\u001b[0m\u001b[0;34m,\u001b[0m \u001b[0mfinal_item_Embed\u001b[0m \u001b[0;34m=\u001b[0m \u001b[0mtorch\u001b[0m\u001b[0;34m.\u001b[0m\u001b[0msplit\u001b[0m\u001b[0;34m(\u001b[0m\u001b[0mout\u001b[0m\u001b[0;34m,\u001b[0m \u001b[0;34m(\u001b[0m\u001b[0mn_users\u001b[0m\u001b[0;34m,\u001b[0m \u001b[0mn_items\u001b[0m\u001b[0;34m)\u001b[0m\u001b[0;34m)\u001b[0m\u001b[0;34m\u001b[0m\u001b[0;34m\u001b[0m\u001b[0m\n\u001b[0;32m---> 41\u001b[0;31m           test_topK_recall,  test_topK_precision = get_metrics(\n\u001b[0m\u001b[1;32m     42\u001b[0m             \u001b[0mfinal_user_Embed\u001b[0m\u001b[0;34m,\u001b[0m \u001b[0mfinal_item_Embed\u001b[0m\u001b[0;34m,\u001b[0m \u001b[0mn_users\u001b[0m\u001b[0;34m,\u001b[0m \u001b[0mn_items\u001b[0m\u001b[0;34m,\u001b[0m \u001b[0mtrain_df\u001b[0m\u001b[0;34m,\u001b[0m \u001b[0mtest_df\u001b[0m\u001b[0;34m,\u001b[0m \u001b[0mK\u001b[0m\u001b[0;34m\u001b[0m\u001b[0;34m\u001b[0m\u001b[0m\n\u001b[1;32m     43\u001b[0m           )\n",
            "\u001b[0;32m<ipython-input-55-a142d67eb841>\u001b[0m in \u001b[0;36mget_metrics\u001b[0;34m(user_Embed_wts, item_Embed_wts, n_users, n_items, train_data, test_data, K)\u001b[0m\n\u001b[1;32m     27\u001b[0m   \u001b[0mtest_interacted_items\u001b[0m \u001b[0;34m=\u001b[0m \u001b[0mtest_data\u001b[0m\u001b[0;34m.\u001b[0m\u001b[0mgroupby\u001b[0m\u001b[0;34m(\u001b[0m\u001b[0;34m'user_id_idx'\u001b[0m\u001b[0;34m)\u001b[0m\u001b[0;34m[\u001b[0m\u001b[0;34m'item_id_idx'\u001b[0m\u001b[0;34m]\u001b[0m\u001b[0;34m.\u001b[0m\u001b[0mapply\u001b[0m\u001b[0;34m(\u001b[0m\u001b[0mlist\u001b[0m\u001b[0;34m)\u001b[0m\u001b[0;34m.\u001b[0m\u001b[0mreset_index\u001b[0m\u001b[0;34m(\u001b[0m\u001b[0;34m)\u001b[0m\u001b[0;34m\u001b[0m\u001b[0;34m\u001b[0m\u001b[0m\n\u001b[1;32m     28\u001b[0m   \u001b[0mmetrics_df\u001b[0m \u001b[0;34m=\u001b[0m \u001b[0mpd\u001b[0m\u001b[0;34m.\u001b[0m\u001b[0mmerge\u001b[0m\u001b[0;34m(\u001b[0m\u001b[0mtest_interacted_items\u001b[0m\u001b[0;34m,\u001b[0m\u001b[0mtopk_relevance_indices_df\u001b[0m\u001b[0;34m,\u001b[0m \u001b[0mhow\u001b[0m\u001b[0;34m=\u001b[0m \u001b[0;34m'left'\u001b[0m\u001b[0;34m,\u001b[0m \u001b[0mleft_on\u001b[0m \u001b[0;34m=\u001b[0m \u001b[0;34m'user_id_idx'\u001b[0m\u001b[0;34m,\u001b[0m\u001b[0mright_on\u001b[0m \u001b[0;34m=\u001b[0m \u001b[0;34m[\u001b[0m\u001b[0;34m'user_ID'\u001b[0m\u001b[0;34m]\u001b[0m\u001b[0;34m)\u001b[0m\u001b[0;34m\u001b[0m\u001b[0;34m\u001b[0m\u001b[0m\n\u001b[0;32m---> 29\u001b[0;31m   \u001b[0mmetrics_df\u001b[0m\u001b[0;34m[\u001b[0m\u001b[0;34m'intrsctn_itm'\u001b[0m\u001b[0;34m]\u001b[0m \u001b[0;34m=\u001b[0m \u001b[0;34m[\u001b[0m\u001b[0mlist\u001b[0m\u001b[0;34m(\u001b[0m\u001b[0mset\u001b[0m\u001b[0;34m(\u001b[0m\u001b[0ma\u001b[0m\u001b[0;34m)\u001b[0m\u001b[0;34m.\u001b[0m\u001b[0mintersection\u001b[0m\u001b[0;34m(\u001b[0m\u001b[0mb\u001b[0m\u001b[0;34m)\u001b[0m\u001b[0;34m)\u001b[0m \u001b[0;32mfor\u001b[0m \u001b[0ma\u001b[0m\u001b[0;34m,\u001b[0m \u001b[0mb\u001b[0m \u001b[0;32min\u001b[0m \u001b[0mzip\u001b[0m\u001b[0;34m(\u001b[0m\u001b[0mmetrics_df\u001b[0m\u001b[0;34m.\u001b[0m\u001b[0mitem_id_idx\u001b[0m\u001b[0;34m,\u001b[0m \u001b[0mmetrics_df\u001b[0m\u001b[0;34m.\u001b[0m\u001b[0mtop_rlvnt_itm\u001b[0m\u001b[0;34m)\u001b[0m\u001b[0;34m]\u001b[0m\u001b[0;34m\u001b[0m\u001b[0;34m\u001b[0m\u001b[0m\n\u001b[0m\u001b[1;32m     30\u001b[0m \u001b[0;34m\u001b[0m\u001b[0m\n\u001b[1;32m     31\u001b[0m   \u001b[0mmetrics_df\u001b[0m\u001b[0;34m[\u001b[0m\u001b[0;34m'recall'\u001b[0m\u001b[0;34m]\u001b[0m \u001b[0;34m=\u001b[0m \u001b[0mmetrics_df\u001b[0m\u001b[0;34m.\u001b[0m\u001b[0mapply\u001b[0m\u001b[0;34m(\u001b[0m\u001b[0;32mlambda\u001b[0m \u001b[0mx\u001b[0m \u001b[0;34m:\u001b[0m \u001b[0mlen\u001b[0m\u001b[0;34m(\u001b[0m\u001b[0mx\u001b[0m\u001b[0;34m[\u001b[0m\u001b[0;34m'intrsctn_itm'\u001b[0m\u001b[0;34m]\u001b[0m\u001b[0;34m)\u001b[0m\u001b[0;34m/\u001b[0m\u001b[0mlen\u001b[0m\u001b[0;34m(\u001b[0m\u001b[0mx\u001b[0m\u001b[0;34m[\u001b[0m\u001b[0;34m'item_id_idx'\u001b[0m\u001b[0;34m]\u001b[0m\u001b[0;34m)\u001b[0m\u001b[0;34m,\u001b[0m \u001b[0maxis\u001b[0m \u001b[0;34m=\u001b[0m \u001b[0;36m1\u001b[0m\u001b[0;34m)\u001b[0m\u001b[0;34m\u001b[0m\u001b[0;34m\u001b[0m\u001b[0m\n",
            "\u001b[0;32m<ipython-input-55-a142d67eb841>\u001b[0m in \u001b[0;36m<listcomp>\u001b[0;34m(.0)\u001b[0m\n\u001b[1;32m     27\u001b[0m   \u001b[0mtest_interacted_items\u001b[0m \u001b[0;34m=\u001b[0m \u001b[0mtest_data\u001b[0m\u001b[0;34m.\u001b[0m\u001b[0mgroupby\u001b[0m\u001b[0;34m(\u001b[0m\u001b[0;34m'user_id_idx'\u001b[0m\u001b[0;34m)\u001b[0m\u001b[0;34m[\u001b[0m\u001b[0;34m'item_id_idx'\u001b[0m\u001b[0;34m]\u001b[0m\u001b[0;34m.\u001b[0m\u001b[0mapply\u001b[0m\u001b[0;34m(\u001b[0m\u001b[0mlist\u001b[0m\u001b[0;34m)\u001b[0m\u001b[0;34m.\u001b[0m\u001b[0mreset_index\u001b[0m\u001b[0;34m(\u001b[0m\u001b[0;34m)\u001b[0m\u001b[0;34m\u001b[0m\u001b[0;34m\u001b[0m\u001b[0m\n\u001b[1;32m     28\u001b[0m   \u001b[0mmetrics_df\u001b[0m \u001b[0;34m=\u001b[0m \u001b[0mpd\u001b[0m\u001b[0;34m.\u001b[0m\u001b[0mmerge\u001b[0m\u001b[0;34m(\u001b[0m\u001b[0mtest_interacted_items\u001b[0m\u001b[0;34m,\u001b[0m\u001b[0mtopk_relevance_indices_df\u001b[0m\u001b[0;34m,\u001b[0m \u001b[0mhow\u001b[0m\u001b[0;34m=\u001b[0m \u001b[0;34m'left'\u001b[0m\u001b[0;34m,\u001b[0m \u001b[0mleft_on\u001b[0m \u001b[0;34m=\u001b[0m \u001b[0;34m'user_id_idx'\u001b[0m\u001b[0;34m,\u001b[0m\u001b[0mright_on\u001b[0m \u001b[0;34m=\u001b[0m \u001b[0;34m[\u001b[0m\u001b[0;34m'user_ID'\u001b[0m\u001b[0;34m]\u001b[0m\u001b[0;34m)\u001b[0m\u001b[0;34m\u001b[0m\u001b[0;34m\u001b[0m\u001b[0m\n\u001b[0;32m---> 29\u001b[0;31m   \u001b[0mmetrics_df\u001b[0m\u001b[0;34m[\u001b[0m\u001b[0;34m'intrsctn_itm'\u001b[0m\u001b[0;34m]\u001b[0m \u001b[0;34m=\u001b[0m \u001b[0;34m[\u001b[0m\u001b[0mlist\u001b[0m\u001b[0;34m(\u001b[0m\u001b[0mset\u001b[0m\u001b[0;34m(\u001b[0m\u001b[0ma\u001b[0m\u001b[0;34m)\u001b[0m\u001b[0;34m.\u001b[0m\u001b[0mintersection\u001b[0m\u001b[0;34m(\u001b[0m\u001b[0mb\u001b[0m\u001b[0;34m)\u001b[0m\u001b[0;34m)\u001b[0m \u001b[0;32mfor\u001b[0m \u001b[0ma\u001b[0m\u001b[0;34m,\u001b[0m \u001b[0mb\u001b[0m \u001b[0;32min\u001b[0m \u001b[0mzip\u001b[0m\u001b[0;34m(\u001b[0m\u001b[0mmetrics_df\u001b[0m\u001b[0;34m.\u001b[0m\u001b[0mitem_id_idx\u001b[0m\u001b[0;34m,\u001b[0m \u001b[0mmetrics_df\u001b[0m\u001b[0;34m.\u001b[0m\u001b[0mtop_rlvnt_itm\u001b[0m\u001b[0;34m)\u001b[0m\u001b[0;34m]\u001b[0m\u001b[0;34m\u001b[0m\u001b[0;34m\u001b[0m\u001b[0m\n\u001b[0m\u001b[1;32m     30\u001b[0m \u001b[0;34m\u001b[0m\u001b[0m\n\u001b[1;32m     31\u001b[0m   \u001b[0mmetrics_df\u001b[0m\u001b[0;34m[\u001b[0m\u001b[0;34m'recall'\u001b[0m\u001b[0;34m]\u001b[0m \u001b[0;34m=\u001b[0m \u001b[0mmetrics_df\u001b[0m\u001b[0;34m.\u001b[0m\u001b[0mapply\u001b[0m\u001b[0;34m(\u001b[0m\u001b[0;32mlambda\u001b[0m \u001b[0mx\u001b[0m \u001b[0;34m:\u001b[0m \u001b[0mlen\u001b[0m\u001b[0;34m(\u001b[0m\u001b[0mx\u001b[0m\u001b[0;34m[\u001b[0m\u001b[0;34m'intrsctn_itm'\u001b[0m\u001b[0;34m]\u001b[0m\u001b[0;34m)\u001b[0m\u001b[0;34m/\u001b[0m\u001b[0mlen\u001b[0m\u001b[0;34m(\u001b[0m\u001b[0mx\u001b[0m\u001b[0;34m[\u001b[0m\u001b[0;34m'item_id_idx'\u001b[0m\u001b[0;34m]\u001b[0m\u001b[0;34m)\u001b[0m\u001b[0;34m,\u001b[0m \u001b[0maxis\u001b[0m \u001b[0;34m=\u001b[0m \u001b[0;36m1\u001b[0m\u001b[0;34m)\u001b[0m\u001b[0;34m\u001b[0m\u001b[0;34m\u001b[0m\u001b[0m\n",
            "\u001b[0;31mTypeError\u001b[0m: 'float' object is not iterable"
          ]
        }
      ]
    },
    {
      "cell_type": "code",
      "source": [
        "epoch_list = [(i+1) for i in range(EPOCHS)]"
      ],
      "metadata": {
        "id": "vCOJY4XST38b"
      },
      "execution_count": null,
      "outputs": []
    },
    {
      "cell_type": "code",
      "source": [
        "plt.plot(epoch_list, light_loss, label='Total Training Loss')\n",
        "plt.plot(epoch_list, light_bpr, label='BPR Training Loss')\n",
        "plt.plot(epoch_list, light_reg, label='Reg Training Loss')\n",
        "\n",
        "plt.xlabel('Epoch')\n",
        "plt.ylabel('Loss')\n",
        "plt.legend()"
      ],
      "metadata": {
        "id": "Z5P2Zf6yT4Uu"
      },
      "execution_count": null,
      "outputs": []
    },
    {
      "cell_type": "code",
      "source": [
        "plt.plot(epoch_list, light_recall, label='Recall')\n",
        "plt.plot(epoch_list, light_precision, label='Precision')\n",
        "plt.xlabel('Epoch')\n",
        "plt.ylabel('Metrics')\n",
        "plt.legend()"
      ],
      "metadata": {
        "id": "I1Quk5mahJ1n"
      },
      "execution_count": null,
      "outputs": []
    },
    {
      "cell_type": "markdown",
      "source": [
        "# Model developing"
      ],
      "metadata": {
        "id": "IKL99OA5jdyG"
      }
    },
    {
      "cell_type": "code",
      "source": [],
      "metadata": {
        "id": "y4WCmMm9lMDX"
      },
      "execution_count": null,
      "outputs": []
    }
  ]
}