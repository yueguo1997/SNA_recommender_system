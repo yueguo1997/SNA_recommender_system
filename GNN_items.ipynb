{
 "cells": [
  {
   "cell_type": "markdown",
   "id": "f22a4acd",
   "metadata": {},
   "source": [
    "# GNN model items"
   ]
  },
  {
   "cell_type": "markdown",
   "id": "a7d3527d",
   "metadata": {},
   "source": [
    "### package install"
   ]
  },
  {
   "cell_type": "code",
   "execution_count": 1,
   "id": "d754b4be",
   "metadata": {
    "scrolled": false
   },
   "outputs": [
    {
     "name": "stdout",
     "output_type": "stream",
     "text": [
      "\u001b[31m  ERROR: Command errored out with exit status 1:\n",
      "   command: /accre/arch/easybuild/software/BinDist/Anaconda3/2022.05/bin/python -u -c 'import io, os, sys, setuptools, tokenize; sys.argv[0] = '\"'\"'/tmp/pip-install-jl583xs5/torch-scatter_9ddeba0e1cce47be98fcaa3be3b01409/setup.py'\"'\"'; __file__='\"'\"'/tmp/pip-install-jl583xs5/torch-scatter_9ddeba0e1cce47be98fcaa3be3b01409/setup.py'\"'\"';f = getattr(tokenize, '\"'\"'open'\"'\"', open)(__file__) if os.path.exists(__file__) else io.StringIO('\"'\"'from setuptools import setup; setup()'\"'\"');code = f.read().replace('\"'\"'\\r\\n'\"'\"', '\"'\"'\\n'\"'\"');f.close();exec(compile(code, __file__, '\"'\"'exec'\"'\"'))' bdist_wheel -d /tmp/pip-wheel-rsnnbknz\n",
      "       cwd: /tmp/pip-install-jl583xs5/torch-scatter_9ddeba0e1cce47be98fcaa3be3b01409/\n",
      "  Complete output (44 lines):\n",
      "  running bdist_wheel\n",
      "  running build\n",
      "  running build_py\n",
      "  creating build\n",
      "  creating build/lib.linux-x86_64-3.9\n",
      "  creating build/lib.linux-x86_64-3.9/torch_scatter\n",
      "  copying torch_scatter/placeholder.py -> build/lib.linux-x86_64-3.9/torch_scatter\n",
      "  copying torch_scatter/__init__.py -> build/lib.linux-x86_64-3.9/torch_scatter\n",
      "  copying torch_scatter/utils.py -> build/lib.linux-x86_64-3.9/torch_scatter\n",
      "  copying torch_scatter/segment_csr.py -> build/lib.linux-x86_64-3.9/torch_scatter\n",
      "  copying torch_scatter/testing.py -> build/lib.linux-x86_64-3.9/torch_scatter\n",
      "  copying torch_scatter/scatter.py -> build/lib.linux-x86_64-3.9/torch_scatter\n",
      "  copying torch_scatter/segment_coo.py -> build/lib.linux-x86_64-3.9/torch_scatter\n",
      "  creating build/lib.linux-x86_64-3.9/torch_scatter/composite\n",
      "  copying torch_scatter/composite/__init__.py -> build/lib.linux-x86_64-3.9/torch_scatter/composite\n",
      "  copying torch_scatter/composite/std.py -> build/lib.linux-x86_64-3.9/torch_scatter/composite\n",
      "  copying torch_scatter/composite/logsumexp.py -> build/lib.linux-x86_64-3.9/torch_scatter/composite\n",
      "  copying torch_scatter/composite/softmax.py -> build/lib.linux-x86_64-3.9/torch_scatter/composite\n",
      "  running egg_info\n",
      "  warning: no previously-included files matching '*' found under directory 'test'\n",
      "  writing manifest file 'torch_scatter.egg-info/SOURCES.txt'\n",
      "  running build_ext\n",
      "  /home/guoy20/.local/lib/python3.9/site-packages/torch/utils/cpp_extension.py:366: UserWarning:\n",
      "  \n",
      "                                 !! WARNING !!\n",
      "  \n",
      "  !!!!!!!!!!!!!!!!!!!!!!!!!!!!!!!!!!!!!!!!!!!!!!!!!!!!!!!!!!!!!!!!!!!!!!!!!!!!!!!\n",
      "  Your compiler (g++ 4.8.5) may be ABI-incompatible with PyTorch!\n",
      "  Please use a compiler that is ABI-compatible with GCC 5.0 and above.\n",
      "  See https://gcc.gnu.org/onlinedocs/libstdc++/manual/abi.html.\n",
      "  \n",
      "  See https://gist.github.com/goldsborough/d466f43e8ffc948ff92de7486c5216d6\n",
      "  for instructions on how to install GCC 5 or higher.\n",
      "  !!!!!!!!!!!!!!!!!!!!!!!!!!!!!!!!!!!!!!!!!!!!!!!!!!!!!!!!!!!!!!!!!!!!!!!!!!!!!!!\n",
      "  \n",
      "                                !! WARNING !!\n",
      "  \n",
      "    warnings.warn(ABI_INCOMPATIBILITY_WARNING.format(compiler))\n",
      "  creating build/temp.linux-x86_64-3.9\n",
      "  creating build/temp.linux-x86_64-3.9/csrc\n",
      "  creating build/temp.linux-x86_64-3.9/csrc/cpu\n",
      "  gcc -pthread -B /accre/arch/easybuild/software/BinDist/Anaconda3/2022.05/compiler_compat -Wno-unused-result -Wsign-compare -DNDEBUG -O2 -Wall -fPIC -O2 -isystem /accre/arch/easybuild/software/BinDist/Anaconda3/2022.05/include -I/accre/arch/easybuild/software/BinDist/Anaconda3/2022.05/include -fPIC -O2 -isystem /accre/arch/easybuild/software/BinDist/Anaconda3/2022.05/include -fPIC -DWITH_PYTHON -Icsrc -I/home/guoy20/.local/lib/python3.9/site-packages/torch/include -I/home/guoy20/.local/lib/python3.9/site-packages/torch/include/torch/csrc/api/include -I/home/guoy20/.local/lib/python3.9/site-packages/torch/include/TH -I/home/guoy20/.local/lib/python3.9/site-packages/torch/include/THC -I/accre/arch/easybuild/software/BinDist/Anaconda3/2022.05/include/python3.9 -c csrc/cpu/segment_coo_cpu.cpp -o build/temp.linux-x86_64-3.9/csrc/cpu/segment_coo_cpu.o -O3 -Wno-sign-compare -DAT_PARALLEL_OPENMP -fopenmp -DTORCH_API_INCLUDE_EXTENSION_H -DPYBIND11_COMPILER_TYPE=\\\"_gcc\\\" -DPYBIND11_STDLIB=\\\"_libstdcpp\\\" -DPYBIND11_BUILD_ABI=\\\"_cxxabi1011\\\" -DTORCH_EXTENSION_NAME=_segment_coo_cpu -D_GLIBCXX_USE_CXX11_ABI=0 -std=c++17\n",
      "  gcc: error: unrecognized command line option ‘-std=c++17’\n",
      "  error: command '/bin/gcc' failed with exit code 1\n",
      "  ----------------------------------------\u001b[0m\n",
      "\u001b[31m  ERROR: Failed building wheel for torch-scatter\u001b[0m\n",
      "\u001b[31m    ERROR: Command errored out with exit status 1:\n",
      "     command: /accre/arch/easybuild/software/BinDist/Anaconda3/2022.05/bin/python -u -c 'import io, os, sys, setuptools, tokenize; sys.argv[0] = '\"'\"'/tmp/pip-install-jl583xs5/torch-scatter_9ddeba0e1cce47be98fcaa3be3b01409/setup.py'\"'\"'; __file__='\"'\"'/tmp/pip-install-jl583xs5/torch-scatter_9ddeba0e1cce47be98fcaa3be3b01409/setup.py'\"'\"';f = getattr(tokenize, '\"'\"'open'\"'\"', open)(__file__) if os.path.exists(__file__) else io.StringIO('\"'\"'from setuptools import setup; setup()'\"'\"');code = f.read().replace('\"'\"'\\r\\n'\"'\"', '\"'\"'\\n'\"'\"');f.close();exec(compile(code, __file__, '\"'\"'exec'\"'\"'))' install --record /tmp/pip-record-0ccckh1w/install-record.txt --single-version-externally-managed --user --prefix= --compile --install-headers /home/guoy20/.local/include/python3.9/torch-scatter\n",
      "         cwd: /tmp/pip-install-jl583xs5/torch-scatter_9ddeba0e1cce47be98fcaa3be3b01409/\n",
      "    Complete output (46 lines):\n",
      "    running install\n",
      "    /home/guoy20/.local/lib/python3.9/site-packages/setuptools/command/install.py:34: SetuptoolsDeprecationWarning: setup.py install is deprecated. Use build and pip and other standards-based tools.\n",
      "      warnings.warn(\n",
      "    running build\n",
      "    running build_py\n",
      "    creating build\n",
      "    creating build/lib.linux-x86_64-3.9\n",
      "    creating build/lib.linux-x86_64-3.9/torch_scatter\n",
      "    copying torch_scatter/placeholder.py -> build/lib.linux-x86_64-3.9/torch_scatter\n",
      "    copying torch_scatter/__init__.py -> build/lib.linux-x86_64-3.9/torch_scatter\n",
      "    copying torch_scatter/utils.py -> build/lib.linux-x86_64-3.9/torch_scatter\n",
      "    copying torch_scatter/segment_csr.py -> build/lib.linux-x86_64-3.9/torch_scatter\n",
      "    copying torch_scatter/testing.py -> build/lib.linux-x86_64-3.9/torch_scatter\n",
      "    copying torch_scatter/scatter.py -> build/lib.linux-x86_64-3.9/torch_scatter\n",
      "    copying torch_scatter/segment_coo.py -> build/lib.linux-x86_64-3.9/torch_scatter\n",
      "    creating build/lib.linux-x86_64-3.9/torch_scatter/composite\n",
      "    copying torch_scatter/composite/__init__.py -> build/lib.linux-x86_64-3.9/torch_scatter/composite\n",
      "    copying torch_scatter/composite/std.py -> build/lib.linux-x86_64-3.9/torch_scatter/composite\n",
      "    copying torch_scatter/composite/logsumexp.py -> build/lib.linux-x86_64-3.9/torch_scatter/composite\n",
      "    copying torch_scatter/composite/softmax.py -> build/lib.linux-x86_64-3.9/torch_scatter/composite\n",
      "    running egg_info\n",
      "    warning: no previously-included files matching '*' found under directory 'test'\n",
      "    writing manifest file 'torch_scatter.egg-info/SOURCES.txt'\n",
      "    running build_ext\n",
      "    /home/guoy20/.local/lib/python3.9/site-packages/torch/utils/cpp_extension.py:366: UserWarning:\n",
      "    \n",
      "                                   !! WARNING !!\n",
      "    \n",
      "    !!!!!!!!!!!!!!!!!!!!!!!!!!!!!!!!!!!!!!!!!!!!!!!!!!!!!!!!!!!!!!!!!!!!!!!!!!!!!!!\n",
      "    Your compiler (g++ 4.8.5) may be ABI-incompatible with PyTorch!\n",
      "    Please use a compiler that is ABI-compatible with GCC 5.0 and above.\n",
      "    See https://gcc.gnu.org/onlinedocs/libstdc++/manual/abi.html.\n",
      "    \n",
      "    See https://gist.github.com/goldsborough/d466f43e8ffc948ff92de7486c5216d6\n",
      "    for instructions on how to install GCC 5 or higher.\n",
      "    !!!!!!!!!!!!!!!!!!!!!!!!!!!!!!!!!!!!!!!!!!!!!!!!!!!!!!!!!!!!!!!!!!!!!!!!!!!!!!!\n",
      "    \n",
      "                                  !! WARNING !!\n",
      "    \n",
      "      warnings.warn(ABI_INCOMPATIBILITY_WARNING.format(compiler))\n",
      "    creating build/temp.linux-x86_64-3.9\n",
      "    creating build/temp.linux-x86_64-3.9/csrc\n",
      "    creating build/temp.linux-x86_64-3.9/csrc/cpu\n",
      "    gcc -pthread -B /accre/arch/easybuild/software/BinDist/Anaconda3/2022.05/compiler_compat -Wno-unused-result -Wsign-compare -DNDEBUG -O2 -Wall -fPIC -O2 -isystem /accre/arch/easybuild/software/BinDist/Anaconda3/2022.05/include -I/accre/arch/easybuild/software/BinDist/Anaconda3/2022.05/include -fPIC -O2 -isystem /accre/arch/easybuild/software/BinDist/Anaconda3/2022.05/include -fPIC -DWITH_PYTHON -Icsrc -I/home/guoy20/.local/lib/python3.9/site-packages/torch/include -I/home/guoy20/.local/lib/python3.9/site-packages/torch/include/torch/csrc/api/include -I/home/guoy20/.local/lib/python3.9/site-packages/torch/include/TH -I/home/guoy20/.local/lib/python3.9/site-packages/torch/include/THC -I/accre/arch/easybuild/software/BinDist/Anaconda3/2022.05/include/python3.9 -c csrc/cpu/segment_coo_cpu.cpp -o build/temp.linux-x86_64-3.9/csrc/cpu/segment_coo_cpu.o -O3 -Wno-sign-compare -DAT_PARALLEL_OPENMP -fopenmp -DTORCH_API_INCLUDE_EXTENSION_H -DPYBIND11_COMPILER_TYPE=\\\"_gcc\\\" -DPYBIND11_STDLIB=\\\"_libstdcpp\\\" -DPYBIND11_BUILD_ABI=\\\"_cxxabi1011\\\" -DTORCH_EXTENSION_NAME=_segment_coo_cpu -D_GLIBCXX_USE_CXX11_ABI=0 -std=c++17\n",
      "    gcc: error: unrecognized command line option ‘-std=c++17’\n",
      "    error: command '/bin/gcc' failed with exit code 1\n",
      "    ----------------------------------------\u001b[0m\n",
      "\u001b[31mERROR: Command errored out with exit status 1: /accre/arch/easybuild/software/BinDist/Anaconda3/2022.05/bin/python -u -c 'import io, os, sys, setuptools, tokenize; sys.argv[0] = '\"'\"'/tmp/pip-install-jl583xs5/torch-scatter_9ddeba0e1cce47be98fcaa3be3b01409/setup.py'\"'\"'; __file__='\"'\"'/tmp/pip-install-jl583xs5/torch-scatter_9ddeba0e1cce47be98fcaa3be3b01409/setup.py'\"'\"';f = getattr(tokenize, '\"'\"'open'\"'\"', open)(__file__) if os.path.exists(__file__) else io.StringIO('\"'\"'from setuptools import setup; setup()'\"'\"');code = f.read().replace('\"'\"'\\r\\n'\"'\"', '\"'\"'\\n'\"'\"');f.close();exec(compile(code, __file__, '\"'\"'exec'\"'\"'))' install --record /tmp/pip-record-0ccckh1w/install-record.txt --single-version-externally-managed --user --prefix= --compile --install-headers /home/guoy20/.local/include/python3.9/torch-scatter Check the logs for full command output.\u001b[0m\n"
     ]
    },
    {
     "name": "stdout",
     "output_type": "stream",
     "text": [
      "\u001b[31m  ERROR: Command errored out with exit status 1:\n",
      "   command: /accre/arch/easybuild/software/BinDist/Anaconda3/2022.05/bin/python -u -c 'import io, os, sys, setuptools, tokenize; sys.argv[0] = '\"'\"'/tmp/pip-install-71fwrmgg/torch-sparse_046507bcc8ca4f139a2abe2a10db77a8/setup.py'\"'\"'; __file__='\"'\"'/tmp/pip-install-71fwrmgg/torch-sparse_046507bcc8ca4f139a2abe2a10db77a8/setup.py'\"'\"';f = getattr(tokenize, '\"'\"'open'\"'\"', open)(__file__) if os.path.exists(__file__) else io.StringIO('\"'\"'from setuptools import setup; setup()'\"'\"');code = f.read().replace('\"'\"'\\r\\n'\"'\"', '\"'\"'\\n'\"'\"');f.close();exec(compile(code, __file__, '\"'\"'exec'\"'\"'))' bdist_wheel -d /tmp/pip-wheel-d8mi97aj\n",
      "       cwd: /tmp/pip-install-71fwrmgg/torch-sparse_046507bcc8ca4f139a2abe2a10db77a8/\n",
      "  Complete output (67 lines):\n",
      "  running bdist_wheel\n",
      "  running build\n",
      "  running build_py\n",
      "  creating build\n",
      "  creating build/lib.linux-x86_64-3.9\n",
      "  creating build/lib.linux-x86_64-3.9/torch_sparse\n",
      "  copying torch_sparse/select.py -> build/lib.linux-x86_64-3.9/torch_sparse\n",
      "  copying torch_sparse/mul.py -> build/lib.linux-x86_64-3.9/torch_sparse\n",
      "  copying torch_sparse/__init__.py -> build/lib.linux-x86_64-3.9/torch_sparse\n",
      "  copying torch_sparse/rw.py -> build/lib.linux-x86_64-3.9/torch_sparse\n",
      "  copying torch_sparse/cat.py -> build/lib.linux-x86_64-3.9/torch_sparse\n",
      "  copying torch_sparse/utils.py -> build/lib.linux-x86_64-3.9/torch_sparse\n",
      "  copying torch_sparse/storage.py -> build/lib.linux-x86_64-3.9/torch_sparse\n",
      "  copying torch_sparse/matmul.py -> build/lib.linux-x86_64-3.9/torch_sparse\n",
      "  copying torch_sparse/permute.py -> build/lib.linux-x86_64-3.9/torch_sparse\n",
      "  copying torch_sparse/index_select.py -> build/lib.linux-x86_64-3.9/torch_sparse\n",
      "  copying torch_sparse/eye.py -> build/lib.linux-x86_64-3.9/torch_sparse\n",
      "  copying torch_sparse/testing.py -> build/lib.linux-x86_64-3.9/torch_sparse\n",
      "  copying torch_sparse/narrow.py -> build/lib.linux-x86_64-3.9/torch_sparse\n",
      "  copying torch_sparse/coalesce.py -> build/lib.linux-x86_64-3.9/torch_sparse\n",
      "  copying torch_sparse/sample.py -> build/lib.linux-x86_64-3.9/torch_sparse\n",
      "  copying torch_sparse/convert.py -> build/lib.linux-x86_64-3.9/torch_sparse\n",
      "  copying torch_sparse/tensor.py -> build/lib.linux-x86_64-3.9/torch_sparse\n",
      "  copying torch_sparse/spmm.py -> build/lib.linux-x86_64-3.9/torch_sparse\n",
      "  copying torch_sparse/metis.py -> build/lib.linux-x86_64-3.9/torch_sparse\n",
      "  copying torch_sparse/spspmm.py -> build/lib.linux-x86_64-3.9/torch_sparse\n",
      "  copying torch_sparse/add.py -> build/lib.linux-x86_64-3.9/torch_sparse\n",
      "  copying torch_sparse/saint.py -> build/lib.linux-x86_64-3.9/torch_sparse\n",
      "  copying torch_sparse/bandwidth.py -> build/lib.linux-x86_64-3.9/torch_sparse\n",
      "  copying torch_sparse/transpose.py -> build/lib.linux-x86_64-3.9/torch_sparse\n",
      "  copying torch_sparse/spadd.py -> build/lib.linux-x86_64-3.9/torch_sparse\n",
      "  copying torch_sparse/typing.py -> build/lib.linux-x86_64-3.9/torch_sparse\n",
      "  copying torch_sparse/diag.py -> build/lib.linux-x86_64-3.9/torch_sparse\n",
      "  copying torch_sparse/reduce.py -> build/lib.linux-x86_64-3.9/torch_sparse\n",
      "  copying torch_sparse/masked_select.py -> build/lib.linux-x86_64-3.9/torch_sparse\n",
      "  running egg_info\n",
      "  warning: no previously-included files matching '*' found under directory 'third_party/parallel-hashmap/css'\n",
      "  warning: no previously-included files matching '*' found under directory 'third_party/parallel-hashmap/html'\n",
      "  warning: no previously-included files matching '*' found under directory 'third_party/parallel-hashmap/tests'\n",
      "  warning: no previously-included files matching '*' found under directory 'third_party/parallel-hashmap/examples'\n",
      "  warning: no previously-included files matching '*' found under directory 'third_party/parallel-hashmap/benchmark'\n",
      "  warning: no previously-included files matching '*' found under directory 'test'\n",
      "  warning: no previously-included files matching '*' found under directory 'benchmark'\n",
      "  writing manifest file 'torch_sparse.egg-info/SOURCES.txt'\n",
      "  running build_ext\n",
      "  /home/guoy20/.local/lib/python3.9/site-packages/torch/utils/cpp_extension.py:366: UserWarning:\n",
      "  \n",
      "                                 !! WARNING !!\n",
      "  \n",
      "  !!!!!!!!!!!!!!!!!!!!!!!!!!!!!!!!!!!!!!!!!!!!!!!!!!!!!!!!!!!!!!!!!!!!!!!!!!!!!!!\n",
      "  Your compiler (g++ 4.8.5) may be ABI-incompatible with PyTorch!\n",
      "  Please use a compiler that is ABI-compatible with GCC 5.0 and above.\n",
      "  See https://gcc.gnu.org/onlinedocs/libstdc++/manual/abi.html.\n",
      "  \n",
      "  See https://gist.github.com/goldsborough/d466f43e8ffc948ff92de7486c5216d6\n",
      "  for instructions on how to install GCC 5 or higher.\n",
      "  !!!!!!!!!!!!!!!!!!!!!!!!!!!!!!!!!!!!!!!!!!!!!!!!!!!!!!!!!!!!!!!!!!!!!!!!!!!!!!!\n",
      "  \n",
      "                                !! WARNING !!\n",
      "  \n",
      "    warnings.warn(ABI_INCOMPATIBILITY_WARNING.format(compiler))\n",
      "  creating build/temp.linux-x86_64-3.9\n",
      "  creating build/temp.linux-x86_64-3.9/csrc\n",
      "  creating build/temp.linux-x86_64-3.9/csrc/cpu\n",
      "  gcc -pthread -B /accre/arch/easybuild/software/BinDist/Anaconda3/2022.05/compiler_compat -Wno-unused-result -Wsign-compare -DNDEBUG -O2 -Wall -fPIC -O2 -isystem /accre/arch/easybuild/software/BinDist/Anaconda3/2022.05/include -I/accre/arch/easybuild/software/BinDist/Anaconda3/2022.05/include -fPIC -O2 -isystem /accre/arch/easybuild/software/BinDist/Anaconda3/2022.05/include -fPIC -DWITH_PYTHON -Icsrc -Ithird_party/parallel-hashmap -I/home/guoy20/.local/lib/python3.9/site-packages/torch/include -I/home/guoy20/.local/lib/python3.9/site-packages/torch/include/torch/csrc/api/include -I/home/guoy20/.local/lib/python3.9/site-packages/torch/include/TH -I/home/guoy20/.local/lib/python3.9/site-packages/torch/include/THC -I/accre/arch/easybuild/software/BinDist/Anaconda3/2022.05/include/python3.9 -c csrc/cpu/sample_cpu.cpp -o build/temp.linux-x86_64-3.9/csrc/cpu/sample_cpu.o -O3 -Wno-sign-compare -DAT_PARALLEL_OPENMP -fopenmp -DTORCH_API_INCLUDE_EXTENSION_H -DPYBIND11_COMPILER_TYPE=\\\"_gcc\\\" -DPYBIND11_STDLIB=\\\"_libstdcpp\\\" -DPYBIND11_BUILD_ABI=\\\"_cxxabi1011\\\" -DTORCH_EXTENSION_NAME=_sample_cpu -D_GLIBCXX_USE_CXX11_ABI=0 -std=c++17\n",
      "  gcc: error: unrecognized command line option ‘-std=c++17’\n",
      "  error: command '/bin/gcc' failed with exit code 1\n",
      "  ----------------------------------------\u001b[0m\n",
      "\u001b[31m  ERROR: Failed building wheel for torch-sparse\u001b[0m\n",
      "\u001b[31m    ERROR: Command errored out with exit status 1:\n",
      "     command: /accre/arch/easybuild/software/BinDist/Anaconda3/2022.05/bin/python -u -c 'import io, os, sys, setuptools, tokenize; sys.argv[0] = '\"'\"'/tmp/pip-install-71fwrmgg/torch-sparse_046507bcc8ca4f139a2abe2a10db77a8/setup.py'\"'\"'; __file__='\"'\"'/tmp/pip-install-71fwrmgg/torch-sparse_046507bcc8ca4f139a2abe2a10db77a8/setup.py'\"'\"';f = getattr(tokenize, '\"'\"'open'\"'\"', open)(__file__) if os.path.exists(__file__) else io.StringIO('\"'\"'from setuptools import setup; setup()'\"'\"');code = f.read().replace('\"'\"'\\r\\n'\"'\"', '\"'\"'\\n'\"'\"');f.close();exec(compile(code, __file__, '\"'\"'exec'\"'\"'))' install --record /tmp/pip-record-08efjdfh/install-record.txt --single-version-externally-managed --user --prefix= --compile --install-headers /home/guoy20/.local/include/python3.9/torch-sparse\n",
      "         cwd: /tmp/pip-install-71fwrmgg/torch-sparse_046507bcc8ca4f139a2abe2a10db77a8/\n",
      "    Complete output (69 lines):\n",
      "    running install\n",
      "    /home/guoy20/.local/lib/python3.9/site-packages/setuptools/command/install.py:34: SetuptoolsDeprecationWarning: setup.py install is deprecated. Use build and pip and other standards-based tools.\n",
      "      warnings.warn(\n",
      "    running build\n",
      "    running build_py\n",
      "    creating build\n",
      "    creating build/lib.linux-x86_64-3.9\n",
      "    creating build/lib.linux-x86_64-3.9/torch_sparse\n",
      "    copying torch_sparse/select.py -> build/lib.linux-x86_64-3.9/torch_sparse\n",
      "    copying torch_sparse/mul.py -> build/lib.linux-x86_64-3.9/torch_sparse\n",
      "    copying torch_sparse/__init__.py -> build/lib.linux-x86_64-3.9/torch_sparse\n",
      "    copying torch_sparse/rw.py -> build/lib.linux-x86_64-3.9/torch_sparse\n",
      "    copying torch_sparse/cat.py -> build/lib.linux-x86_64-3.9/torch_sparse\n",
      "    copying torch_sparse/utils.py -> build/lib.linux-x86_64-3.9/torch_sparse\n",
      "    copying torch_sparse/storage.py -> build/lib.linux-x86_64-3.9/torch_sparse\n",
      "    copying torch_sparse/matmul.py -> build/lib.linux-x86_64-3.9/torch_sparse\n",
      "    copying torch_sparse/permute.py -> build/lib.linux-x86_64-3.9/torch_sparse\n",
      "    copying torch_sparse/index_select.py -> build/lib.linux-x86_64-3.9/torch_sparse\n",
      "    copying torch_sparse/eye.py -> build/lib.linux-x86_64-3.9/torch_sparse\n",
      "    copying torch_sparse/testing.py -> build/lib.linux-x86_64-3.9/torch_sparse\n",
      "    copying torch_sparse/narrow.py -> build/lib.linux-x86_64-3.9/torch_sparse\n",
      "    copying torch_sparse/coalesce.py -> build/lib.linux-x86_64-3.9/torch_sparse\n",
      "    copying torch_sparse/sample.py -> build/lib.linux-x86_64-3.9/torch_sparse\n",
      "    copying torch_sparse/convert.py -> build/lib.linux-x86_64-3.9/torch_sparse\n",
      "    copying torch_sparse/tensor.py -> build/lib.linux-x86_64-3.9/torch_sparse\n",
      "    copying torch_sparse/spmm.py -> build/lib.linux-x86_64-3.9/torch_sparse\n",
      "    copying torch_sparse/metis.py -> build/lib.linux-x86_64-3.9/torch_sparse\n",
      "    copying torch_sparse/spspmm.py -> build/lib.linux-x86_64-3.9/torch_sparse\n",
      "    copying torch_sparse/add.py -> build/lib.linux-x86_64-3.9/torch_sparse\n",
      "    copying torch_sparse/saint.py -> build/lib.linux-x86_64-3.9/torch_sparse\n",
      "    copying torch_sparse/bandwidth.py -> build/lib.linux-x86_64-3.9/torch_sparse\n",
      "    copying torch_sparse/transpose.py -> build/lib.linux-x86_64-3.9/torch_sparse\n",
      "    copying torch_sparse/spadd.py -> build/lib.linux-x86_64-3.9/torch_sparse\n",
      "    copying torch_sparse/typing.py -> build/lib.linux-x86_64-3.9/torch_sparse\n",
      "    copying torch_sparse/diag.py -> build/lib.linux-x86_64-3.9/torch_sparse\n",
      "    copying torch_sparse/reduce.py -> build/lib.linux-x86_64-3.9/torch_sparse\n",
      "    copying torch_sparse/masked_select.py -> build/lib.linux-x86_64-3.9/torch_sparse\n",
      "    running egg_info\n",
      "    warning: no previously-included files matching '*' found under directory 'third_party/parallel-hashmap/css'\n",
      "    warning: no previously-included files matching '*' found under directory 'third_party/parallel-hashmap/html'\n",
      "    warning: no previously-included files matching '*' found under directory 'third_party/parallel-hashmap/tests'\n",
      "    warning: no previously-included files matching '*' found under directory 'third_party/parallel-hashmap/examples'\n",
      "    warning: no previously-included files matching '*' found under directory 'third_party/parallel-hashmap/benchmark'\n",
      "    warning: no previously-included files matching '*' found under directory 'test'\n",
      "    warning: no previously-included files matching '*' found under directory 'benchmark'\n",
      "    writing manifest file 'torch_sparse.egg-info/SOURCES.txt'\n",
      "    running build_ext\n",
      "    /home/guoy20/.local/lib/python3.9/site-packages/torch/utils/cpp_extension.py:366: UserWarning:\n",
      "    \n",
      "                                   !! WARNING !!\n",
      "    \n",
      "    !!!!!!!!!!!!!!!!!!!!!!!!!!!!!!!!!!!!!!!!!!!!!!!!!!!!!!!!!!!!!!!!!!!!!!!!!!!!!!!\n",
      "    Your compiler (g++ 4.8.5) may be ABI-incompatible with PyTorch!\n",
      "    Please use a compiler that is ABI-compatible with GCC 5.0 and above.\n",
      "    See https://gcc.gnu.org/onlinedocs/libstdc++/manual/abi.html.\n",
      "    \n",
      "    See https://gist.github.com/goldsborough/d466f43e8ffc948ff92de7486c5216d6\n",
      "    for instructions on how to install GCC 5 or higher.\n",
      "    !!!!!!!!!!!!!!!!!!!!!!!!!!!!!!!!!!!!!!!!!!!!!!!!!!!!!!!!!!!!!!!!!!!!!!!!!!!!!!!\n",
      "    \n",
      "                                  !! WARNING !!\n",
      "    \n",
      "      warnings.warn(ABI_INCOMPATIBILITY_WARNING.format(compiler))\n",
      "    creating build/temp.linux-x86_64-3.9\n",
      "    creating build/temp.linux-x86_64-3.9/csrc\n",
      "    creating build/temp.linux-x86_64-3.9/csrc/cpu\n",
      "    gcc -pthread -B /accre/arch/easybuild/software/BinDist/Anaconda3/2022.05/compiler_compat -Wno-unused-result -Wsign-compare -DNDEBUG -O2 -Wall -fPIC -O2 -isystem /accre/arch/easybuild/software/BinDist/Anaconda3/2022.05/include -I/accre/arch/easybuild/software/BinDist/Anaconda3/2022.05/include -fPIC -O2 -isystem /accre/arch/easybuild/software/BinDist/Anaconda3/2022.05/include -fPIC -DWITH_PYTHON -Icsrc -Ithird_party/parallel-hashmap -I/home/guoy20/.local/lib/python3.9/site-packages/torch/include -I/home/guoy20/.local/lib/python3.9/site-packages/torch/include/torch/csrc/api/include -I/home/guoy20/.local/lib/python3.9/site-packages/torch/include/TH -I/home/guoy20/.local/lib/python3.9/site-packages/torch/include/THC -I/accre/arch/easybuild/software/BinDist/Anaconda3/2022.05/include/python3.9 -c csrc/cpu/sample_cpu.cpp -o build/temp.linux-x86_64-3.9/csrc/cpu/sample_cpu.o -O3 -Wno-sign-compare -DAT_PARALLEL_OPENMP -fopenmp -DTORCH_API_INCLUDE_EXTENSION_H -DPYBIND11_COMPILER_TYPE=\\\"_gcc\\\" -DPYBIND11_STDLIB=\\\"_libstdcpp\\\" -DPYBIND11_BUILD_ABI=\\\"_cxxabi1011\\\" -DTORCH_EXTENSION_NAME=_sample_cpu -D_GLIBCXX_USE_CXX11_ABI=0 -std=c++17\n",
      "    gcc: error: unrecognized command line option ‘-std=c++17’\n",
      "    error: command '/bin/gcc' failed with exit code 1\n",
      "    ----------------------------------------\u001b[0m\n",
      "\u001b[31mERROR: Command errored out with exit status 1: /accre/arch/easybuild/software/BinDist/Anaconda3/2022.05/bin/python -u -c 'import io, os, sys, setuptools, tokenize; sys.argv[0] = '\"'\"'/tmp/pip-install-71fwrmgg/torch-sparse_046507bcc8ca4f139a2abe2a10db77a8/setup.py'\"'\"'; __file__='\"'\"'/tmp/pip-install-71fwrmgg/torch-sparse_046507bcc8ca4f139a2abe2a10db77a8/setup.py'\"'\"';f = getattr(tokenize, '\"'\"'open'\"'\"', open)(__file__) if os.path.exists(__file__) else io.StringIO('\"'\"'from setuptools import setup; setup()'\"'\"');code = f.read().replace('\"'\"'\\r\\n'\"'\"', '\"'\"'\\n'\"'\"');f.close();exec(compile(code, __file__, '\"'\"'exec'\"'\"'))' install --record /tmp/pip-record-08efjdfh/install-record.txt --single-version-externally-managed --user --prefix= --compile --install-headers /home/guoy20/.local/include/python3.9/torch-sparse Check the logs for full command output.\u001b[0m\n"
     ]
    },
    {
     "name": "stdout",
     "output_type": "stream",
     "text": [
      "Cloning into 'cs224w-project-data'...\n",
      "remote: Enumerating objects: 53, done.\u001b[K\n",
      "remote: Total 53 (delta 0), reused 0 (delta 0), pack-reused 53\u001b[K\n",
      "Unpacking objects: 100% (53/53), done.\n"
     ]
    }
   ],
   "source": [
    "# Environment Setup (note that capture silences the console output)\n",
    "!pip install -q torch-scatter -f https://data.pyg.org/whl/torch-1.10.0+cu113.html\n",
    "!pip install -q torch-sparse -f https://data.pyg.org/whl/torch-1.10.0+cu113.html\n",
    "!pip install -q git+https://github.com/pyg-team/pytorch_geometric.git\n",
    "\n",
    "!git clone https://github.com/pmaldonado/cs224w-project-data.git"
   ]
  },
  {
   "cell_type": "markdown",
   "id": "88aa4a48",
   "metadata": {},
   "source": [
    "### import package"
   ]
  },
  {
   "cell_type": "code",
   "execution_count": 3,
   "id": "ad7835f6",
   "metadata": {},
   "outputs": [],
   "source": [
    "import random\n",
    "import time\n",
    "import matplotlib.pyplot as plt\n",
    "import networkx as nx\n",
    "import numpy as np\n",
    "import pandas as pd\n",
    "pd.set_option('display.max_colwidth', None)\n",
    "\n",
    "import torch\n",
    "import torch.nn as nn\n",
    "import torch.nn.functional as F\n",
    "import torch.optim as optim\n",
    "import torch_geometric\n",
    "from torch_geometric.nn.conv import MessagePassing\n",
    "from torch_geometric.utils import degree\n",
    "\n",
    "from tqdm.notebook import tqdm\n",
    "from sklearn import preprocessing as pp\n",
    "from sklearn.model_selection import train_test_split\n",
    "import scipy.sparse as sp"
   ]
  },
  {
   "cell_type": "code",
   "execution_count": 4,
   "id": "aa8164da",
   "metadata": {},
   "outputs": [
    {
     "data": {
      "text/plain": [
       "device(type='cuda', index=0)"
      ]
     },
     "execution_count": 4,
     "metadata": {},
     "output_type": "execute_result"
    }
   ],
   "source": [
    "# decide the running gpu\n",
    "device = torch.device(\"cuda:0\" if torch.cuda.is_available() else \"cpu\")\n",
    "device"
   ]
  },
  {
   "cell_type": "code",
   "execution_count": null,
   "id": "38d64a35",
   "metadata": {},
   "outputs": [],
   "source": []
  },
  {
   "cell_type": "markdown",
   "id": "4337db69",
   "metadata": {},
   "source": [
    "# read data"
   ]
  },
  {
   "cell_type": "code",
   "execution_count": 5,
   "id": "e45f55cf",
   "metadata": {},
   "outputs": [
    {
     "name": "stderr",
     "output_type": "stream",
     "text": [
      "/tmp/ipykernel_15295/1907627779.py:1: ParserWarning: Falling back to the 'python' engine because the 'c' engine does not support regex separators (separators > 1 char and different from '\\s+' are interpreted as regex); you can avoid this warning by specifying engine='python'.\n",
      "  df = pd.read_csv('bonanza_buyer_item_seller_id_R_2.txt', sep='::', header=None, names=['buyer', 'item', 'seller', 'timestamp'])\n"
     ]
    },
    {
     "data": {
      "text/html": [
       "<div>\n",
       "<style scoped>\n",
       "    .dataframe tbody tr th:only-of-type {\n",
       "        vertical-align: middle;\n",
       "    }\n",
       "\n",
       "    .dataframe tbody tr th {\n",
       "        vertical-align: top;\n",
       "    }\n",
       "\n",
       "    .dataframe thead th {\n",
       "        text-align: right;\n",
       "    }\n",
       "</style>\n",
       "<table border=\"1\" class=\"dataframe\">\n",
       "  <thead>\n",
       "    <tr style=\"text-align: right;\">\n",
       "      <th></th>\n",
       "      <th>buyer_id</th>\n",
       "      <th>item_id</th>\n",
       "      <th>rating</th>\n",
       "    </tr>\n",
       "  </thead>\n",
       "  <tbody>\n",
       "    <tr>\n",
       "      <th>0</th>\n",
       "      <td>0</td>\n",
       "      <td>0</td>\n",
       "      <td>4</td>\n",
       "    </tr>\n",
       "    <tr>\n",
       "      <th>1</th>\n",
       "      <td>0</td>\n",
       "      <td>2</td>\n",
       "      <td>1</td>\n",
       "    </tr>\n",
       "    <tr>\n",
       "      <th>2</th>\n",
       "      <td>1</td>\n",
       "      <td>0</td>\n",
       "      <td>2</td>\n",
       "    </tr>\n",
       "    <tr>\n",
       "      <th>3</th>\n",
       "      <td>1</td>\n",
       "      <td>4</td>\n",
       "      <td>1</td>\n",
       "    </tr>\n",
       "    <tr>\n",
       "      <th>4</th>\n",
       "      <td>2</td>\n",
       "      <td>0</td>\n",
       "      <td>1</td>\n",
       "    </tr>\n",
       "  </tbody>\n",
       "</table>\n",
       "</div>"
      ],
      "text/plain": [
       "   buyer_id  item_id  rating\n",
       "0         0        0       4\n",
       "1         0        2       1\n",
       "2         1        0       2\n",
       "3         1        4       1\n",
       "4         2        0       1"
      ]
     },
     "execution_count": 5,
     "metadata": {},
     "output_type": "execute_result"
    }
   ],
   "source": [
    "df = pd.read_csv('bonanza_buyer_item_seller_id_R_2.txt', sep='::', header=None, names=['buyer', 'item', 'seller', 'timestamp'])\n",
    "train_data = df\n",
    "df_train = df.groupby(['buyer','item']).count()\n",
    "new_buyer = [index[0] for index in df_train.index]\n",
    "new_item = [index[1] for index in df_train.index]\n",
    "new_rating = [i for i in df_train.seller]\n",
    "\n",
    "new_train_data_df = pd.DataFrame({'buyer_id':new_buyer,'item_id':new_item,'rating': new_rating})\n",
    "new_train_data_df.head(5)"
   ]
  },
  {
   "cell_type": "code",
   "execution_count": 6,
   "id": "e1a111e8",
   "metadata": {},
   "outputs": [
    {
     "name": "stdout",
     "output_type": "stream",
     "text": [
      "24882\n"
     ]
    }
   ],
   "source": [
    "df = new_train_data_df[new_train_data_df['rating']>0]\n",
    "print(len(df))"
   ]
  },
  {
   "cell_type": "code",
   "execution_count": 7,
   "id": "873c6341",
   "metadata": {},
   "outputs": [
    {
     "name": "stdout",
     "output_type": "stream",
     "text": [
      "Rating Distribution\n"
     ]
    },
    {
     "data": {
      "text/plain": [
       "rating\n",
       "1     17975\n",
       "2      4133\n",
       "3      1445\n",
       "4       552\n",
       "5       249\n",
       "6       155\n",
       "7       101\n",
       "8        62\n",
       "9        45\n",
       "10       38\n",
       "11       28\n",
       "12       21\n",
       "13       13\n",
       "14       14\n",
       "15        8\n",
       "16        4\n",
       "17        5\n",
       "18        3\n",
       "19        4\n",
       "20        4\n",
       "21        2\n",
       "22        4\n",
       "25        5\n",
       "27        1\n",
       "29        2\n",
       "30        1\n",
       "32        1\n",
       "33        1\n",
       "36        1\n",
       "40        1\n",
       "52        1\n",
       "56        1\n",
       "60        1\n",
       "70        1\n",
       "Name: rating, dtype: int64"
      ]
     },
     "execution_count": 7,
     "metadata": {},
     "output_type": "execute_result"
    }
   ],
   "source": [
    "print(\"Rating Distribution\")\n",
    "df.groupby(['rating'])['rating'].count()"
   ]
  },
  {
   "cell_type": "code",
   "execution_count": 8,
   "id": "9c874955",
   "metadata": {},
   "outputs": [],
   "source": [
    "#train，test split 0.2，0.8\n",
    "train, test = train_test_split(df.values, test_size=0.2, random_state=16)\n",
    "train_df = pd.DataFrame(train, columns=df.columns)\n",
    "test_df = pd.DataFrame(test, columns=df.columns)"
   ]
  },
  {
   "cell_type": "code",
   "execution_count": 9,
   "id": "2b03285d",
   "metadata": {},
   "outputs": [],
   "source": [
    "# transform the labels\n",
    "le_user = pp.LabelEncoder()\n",
    "le_item = pp.LabelEncoder()\n",
    "train_df['buyer_id_idx'] = le_user.fit_transform(train_df['buyer_id'].values)\n",
    "train_df['item_id_idx'] = le_item.fit_transform(train_df['item_id'].values)"
   ]
  },
  {
   "cell_type": "code",
   "execution_count": 13,
   "id": "d9195ef2",
   "metadata": {},
   "outputs": [
    {
     "name": "stdout",
     "output_type": "stream",
     "text": [
      "7949 2864\n",
      "4977\n"
     ]
    }
   ],
   "source": [
    "# get the id set \n",
    "train_user_ids = train_df['buyer_id'].unique()\n",
    "train_item_ids = train_df['item_id'].unique()\n",
    "\n",
    "print(len(train_user_ids), len(train_item_ids))\n",
    "\n",
    "test_df = test_df[\n",
    "  (test_df['buyer_id'].isin(train_user_ids)) & \\\n",
    "  (test_df['item_id'].isin(train_item_ids))\n",
    "]\n",
    "print(len(test))"
   ]
  },
  {
   "cell_type": "code",
   "execution_count": 14,
   "id": "d9c7bf2a",
   "metadata": {},
   "outputs": [],
   "source": [
    "test_df['buyer_id_idx'] = le_user.transform(test_df['buyer_id'].values)\n",
    "test_df['item_id_idx'] = le_item.transform(test_df['item_id'].values)"
   ]
  },
  {
   "cell_type": "code",
   "execution_count": 15,
   "id": "3f1df563",
   "metadata": {},
   "outputs": [
    {
     "name": "stdout",
     "output_type": "stream",
     "text": [
      "Number of Unique Buyers :  7949\n",
      "Number of unique Items :  2864\n"
     ]
    }
   ],
   "source": [
    "# check the number of data\n",
    "n_users = train_df['buyer_id_idx'].nunique()\n",
    "n_items = train_df['item_id_idx'].nunique()\n",
    "print(\"Number of Unique Buyers : \", n_users)\n",
    "print(\"Number of unique Items : \", n_items)"
   ]
  },
  {
   "cell_type": "code",
   "execution_count": null,
   "id": "77bfd187",
   "metadata": {},
   "outputs": [],
   "source": [
    "\n"
   ]
  },
  {
   "cell_type": "code",
   "execution_count": 16,
   "id": "5babfdd7",
   "metadata": {},
   "outputs": [
    {
     "data": {
      "text/plain": [
       "(tensor([   5,   95,  543, 1506, 1740, 2867, 3639, 4034, 4290, 4464, 5146, 5269,\n",
       "         5579, 7600, 7703, 7781], device='cuda:0'),\n",
       " tensor([ 7949,  8613,  9334,  8105,  8706,  8194,  8463,  8638,  8734,  8825,\n",
       "          9077,  9102, 10177, 10468, 10152, 10303], device='cuda:0'),\n",
       " tensor([10016,  9248, 10812,  8971, 10587,  9417,  8923,  9153,  8661, 10164,\n",
       "         10469,  8670,  8461, 10696,  8017, 10260], device='cuda:0'))"
      ]
     },
     "execution_count": 16,
     "metadata": {},
     "output_type": "execute_result"
    }
   ],
   "source": [
    "def data_loader(data, batch_size, n_usr, n_itm):\n",
    "# check the negtive samples\n",
    "    def sample_neg(x):\n",
    "        while True:\n",
    "            neg_id = random.randint(0, n_itm - 1)\n",
    "            if neg_id not in x:\n",
    "                return neg_id\n",
    "            \n",
    "    # get the users set with the negtive ids\n",
    "\n",
    "    interected_items_df = data.groupby('buyer_id_idx')['item_id_idx'].apply(list).reset_index()\n",
    "    indices = [x for x in range(n_usr)]\n",
    "    \n",
    "   # split the data into batches\n",
    "\n",
    "    if n_usr < batch_size:\n",
    "        users = [random.choice(indices) for _ in range(batch_size)]\n",
    "    else:\n",
    "        users = random.sample(indices, batch_size)\n",
    "    users.sort()\n",
    "    users_df = pd.DataFrame(users,columns = ['buyers'])\n",
    "    \n",
    "    # get the positive id and begtive ids\n",
    "\n",
    "    interected_items_df = pd.merge(interected_items_df, users_df, how = 'right', left_on = 'buyer_id_idx', right_on = 'buyers')\n",
    "    pos_items = interected_items_df['item_id_idx'].apply(lambda x : random.choice(x)).values\n",
    "    neg_items = interected_items_df['item_id_idx'].apply(lambda x: sample_neg(x)).values\n",
    "\n",
    "    return (\n",
    "        torch.LongTensor(list(users)).to(device), \n",
    "        torch.LongTensor(list(pos_items)).to(device) + n_usr, \n",
    "        torch.LongTensor(list(neg_items)).to(device) + n_usr\n",
    "    )\n",
    "\n",
    "data_loader(train_df, 16, n_users, n_items)"
   ]
  },
  {
   "cell_type": "code",
   "execution_count": 12,
   "id": "c7302e40",
   "metadata": {},
   "outputs": [
    {
     "data": {
      "text/plain": [
       "tensor([[ 6088,  6050,  5746,  ...,  9226,  9840,  8563],\n",
       "        [ 9583, 10383,  9732,  ...,   280,  4093,   865]], device='cuda:0')"
      ]
     },
     "execution_count": 12,
     "metadata": {},
     "output_type": "execute_result"
    }
   ],
   "source": [
    "# turn the ids into tensors\n",
    "u_t = torch.LongTensor(train_df.buyer_id_idx)\n",
    "i_t = torch.LongTensor(train_df.item_id_idx) + n_users\n",
    "\n",
    "train_edge_index = torch.stack((\n",
    "  torch.cat([u_t, i_t]),\n",
    "  torch.cat([i_t, u_t])\n",
    ")).to(device)\n",
    "train_edge_index"
   ]
  },
  {
   "cell_type": "code",
   "execution_count": 13,
   "id": "5d62dd7d",
   "metadata": {},
   "outputs": [
    {
     "data": {
      "text/plain": [
       "(tensor([8563,  865], device='cuda:0'), tensor([6088, 9583], device='cuda:0'))"
      ]
     },
     "execution_count": 13,
     "metadata": {},
     "output_type": "execute_result"
    }
   ],
   "source": [
    "train_edge_index[:,-1], train_edge_index[:, 0]"
   ]
  },
  {
   "cell_type": "code",
   "execution_count": 14,
   "id": "ed36847d",
   "metadata": {},
   "outputs": [
    {
     "data": {
      "text/plain": [
       "(tensor([ 865, 8563], device='cuda:0'), tensor([9583, 6088], device='cuda:0'))"
      ]
     },
     "execution_count": 14,
     "metadata": {},
     "output_type": "execute_result"
    }
   ],
   "source": [
    "train_edge_index[:, len(train)-1], train_edge_index[:, len(train)]"
   ]
  },
  {
   "cell_type": "code",
   "execution_count": 15,
   "id": "78435f08",
   "metadata": {},
   "outputs": [],
   "source": [
    "# Build LightGCN\n",
    "class LightGCNConv(MessagePassing):\n",
    "  def __init__(self, **kwargs):  \n",
    "    super().__init__(aggr='add')\n",
    "\n",
    "  def forward(self, x, edge_index):\n",
    "    # Compute normalization\n",
    "    from_, to_ = edge_index\n",
    "    deg = degree(to_, x.size(0), dtype=x.dtype)\n",
    "    deg_inv_sqrt = deg.pow(-0.5)\n",
    "    deg_inv_sqrt[deg_inv_sqrt == float('inf')] = 0\n",
    "    norm = deg_invaadad_sqrt[from_] * deg_inv_sqrt[to_]\n",
    "\n",
    "    # Start propagating messages (no update after aggregation)\n",
    "    return self.propagate(edge_index, x=x, norm=norm)\n",
    "\n",
    "  def message(self, x_j, norm):\n",
    "    return norm.view(-1, 1) * x_j"
   ]
  },
  {
   "cell_type": "code",
   "execution_count": 16,
   "id": "3a53760f",
   "metadata": {},
   "outputs": [
    {
     "data": {
      "text/plain": [
       "tensor([[0.0000, 0.0000, 0.7071, 0.5000, 0.0000],\n",
       "        [0.0000, 0.0000, 0.0000, 0.5000, 0.7071],\n",
       "        [0.7071, 0.0000, 0.0000, 0.0000, 0.0000],\n",
       "        [0.5000, 0.5000, 0.0000, 0.0000, 0.0000],\n",
       "        [0.0000, 0.7071, 0.0000, 0.0000, 0.0000]])"
      ]
     },
     "execution_count": 16,
     "metadata": {},
     "output_type": "execute_result"
    }
   ],
   "source": [
    "test_x = torch.Tensor(np.eye(5))\n",
    "test_edge_index = torch.LongTensor(np.array([\n",
    "  [0, 0, 1, 1, 2, 3, 3, 4],\n",
    "  [2, 3, 3, 4, 0, 0, 1, 1]\n",
    "]))\n",
    "\n",
    "LightGCNConv()(test_x, test_edge_index)"
   ]
  },
  {
   "cell_type": "code",
   "execution_count": 17,
   "id": "6ff2c8fe",
   "metadata": {},
   "outputs": [],
   "source": [
    "# build the NGCF. model\n",
    "class NGCFConv(MessagePassing):\n",
    "  def __init__(self, latent_dim, dropout, bias=True, **kwargs):  \n",
    "    super(NGCFConv, self).__init__(aggr='add', **kwargs)\n",
    "\n",
    "    self.dropout = dropout\n",
    "\n",
    "    self.lin_1 = nn.Linear(latent_dim, latent_dim, bias=bias)\n",
    "    self.lin_2 = nn.Linear(latent_dim, latent_dim, bias=bias)\n",
    "\n",
    "    self.init_parameters()\n",
    "\n",
    "\n",
    "  def init_parameters(self):\n",
    "    nn.init.xavier_uniform_(self.lin_1.weight)\n",
    "    nn.init.xavier_uniform_(self.lin_2.weight)\n",
    "\n",
    "\n",
    "  def forward(self, x, edge_index):\n",
    "    # Compute normalization\n",
    "    from_, to_ = edge_index\n",
    "    deg = degree(to_, x.size(0), dtype=x.dtype)\n",
    "    deg_inv_sqrt = deg.pow(-0.5)\n",
    "    deg_inv_sqrt[deg_inv_sqrt == float('inf')] = 0\n",
    "    norm = deg_inv_sqrt[from_] * deg_inv_sqrt[to_]\n",
    "\n",
    "    # Start propagating messages\n",
    "    out = self.propagate(edge_index, x=(x, x), norm=norm)\n",
    "\n",
    "    # Perform update after aggregation\n",
    "    out += self.lin_1(x)\n",
    "    out = F.dropout(out, self.dropout, self.training)\n",
    "    return F.leaky_relu(out)\n",
    "\n",
    "\n",
    "  def message(self, x_j, x_i, norm):\n",
    "    return norm.view(-1, 1) * (self.lin_1(x_j) + self.lin_2(x_j * x_i))"
   ]
  },
  {
   "cell_type": "code",
   "execution_count": 18,
   "id": "475d6258",
   "metadata": {},
   "outputs": [],
   "source": [
    "# develop the GNN model\n",
    "class RecSysGNN(nn.Module):\n",
    "  def __init__(\n",
    "      self,\n",
    "      latent_dim, \n",
    "      num_layers,\n",
    "      num_users,\n",
    "      num_items,\n",
    "      model, \n",
    "      dropout=0.1\n",
    "  ):\n",
    "    super(RecSysGNN, self).__init__()\n",
    "\n",
    "    assert (model == 'NGCF' or model == 'LightGCN'), \\\n",
    "        'Model must be NGCF or LightGCN'\n",
    "    self.model = model\n",
    "    self.embedding = nn.Embedding(num_users + num_items, latent_dim)\n",
    "\n",
    "    if self.model == 'NGCF':\n",
    "      self.convs = nn.ModuleList(\n",
    "        NGCFConv(latent_dim, dropout=dropout) for _ in range(num_layers)\n",
    "      )\n",
    "    else:\n",
    "      self.convs = nn.ModuleList(LightGCNConv() for _ in range(num_layers))\n",
    "\n",
    "    self.init_parameters()\n",
    "\n",
    "# if the model is the NGCF，\n",
    "  def init_parameters(self):\n",
    "    if self.model == 'NGCF':\n",
    "      nn.init.xavier_uniform_(self.embedding.weight, gain=1)\n",
    "    else:\n",
    "      # Authors of LightGCN report higher results with normal initialization\n",
    "      nn.init.normal_(self.embedding.weight, std=0.1) \n",
    "\n",
    "\n",
    "  def forward(self, edge_index):\n",
    "    emb0 = self.embedding.weight\n",
    "    embs = [emb0]\n",
    "\n",
    "    emb = emb0\n",
    "    for conv in self.convs:\n",
    "      emb = conv(x=emb, edge_index=edge_index)\n",
    "      embs.append(emb)\n",
    "\n",
    "    out = (\n",
    "      torch.cat(embs, dim=-1) if self.model == 'NGCF' \n",
    "      else torch.mean(torch.stack(embs, dim=0), dim=0)\n",
    "    )\n",
    "    \n",
    "    return emb0, out\n",
    "\n",
    "\n",
    "  def encode_minibatch(self, users, pos_items, neg_items, edge_index):\n",
    "    emb0, out = self(edge_index)\n",
    "    return (\n",
    "        out[users], \n",
    "        out[pos_items], \n",
    "        out[neg_items], \n",
    "        emb0[users],\n",
    "        emb0[pos_items],\n",
    "        emb0[neg_items]\n",
    "    )"
   ]
  },
  {
   "cell_type": "code",
   "execution_count": 19,
   "id": "fd59c75c",
   "metadata": {},
   "outputs": [],
   "source": [
    "def compute_bpr_loss(users, users_emb, pos_emb, neg_emb, user_emb0,  pos_emb0, neg_emb0):\n",
    "  # compute loss from initial embeddings, used for regulization\n",
    "  reg_loss = (1 / 2) * (\n",
    "    user_emb0.norm().pow(2) + \n",
    "    pos_emb0.norm().pow(2)  +\n",
    "    neg_emb0.norm().pow(2)\n",
    "  ) / float(len(users))\n",
    "  \n",
    "  # compute BPR loss from user, positive item, and negative item embeddings\n",
    "  pos_scores = torch.mul(users_emb, pos_emb).sum(dim=1)\n",
    "  neg_scores = torch.mul(users_emb, neg_emb).sum(dim=1)\n",
    "      \n",
    "  bpr_loss = torch.mean(F.softplus(neg_scores - pos_scores))\n",
    "      \n",
    "  return bpr_loss, reg_loss"
   ]
  },
  {
   "cell_type": "code",
   "execution_count": 20,
   "id": "b0f529df",
   "metadata": {},
   "outputs": [],
   "source": [
    "# Calculate the  precision and the recall\n",
    "def get_metrics(user_Embed_wts, item_Embed_wts, n_users, n_items, train_data, test_data, K):\n",
    "  test_user_ids = torch.LongTensor(test_data['buyer_id_idx'].unique())\n",
    "  # compute the score of all user-item pairs\n",
    "  relevance_score = torch.matmul(user_Embed_wts, torch.transpose(item_Embed_wts,0, 1))\n",
    "\n",
    "  # create dense tensor of all user-item interactions\n",
    "  i = torch.stack((\n",
    "    torch.LongTensor(train_df['buyer_id_idx'].values),\n",
    "    torch.LongTensor(train_df['item_id_idx'].values)\n",
    "  ))\n",
    "  v = torch.ones((len(train_df)), dtype=torch.float64)\n",
    "  interactions_t = torch.sparse.FloatTensor(i, v, (n_users, n_items))\\\n",
    "      .to_dense().to(device)\n",
    "  \n",
    "  # mask out training user-item interactions from metric computation\n",
    "  relevance_score = torch.mul(relevance_score, (1 - interactions_t))\n",
    "\n",
    "  # compute top scoring items for each user\n",
    "  topk_relevance_indices = torch.topk(relevance_score, K).indices\n",
    "  topk_relevance_indices_df = pd.DataFrame(topk_relevance_indices.cpu().numpy(),columns =['top_indx_'+str(x+1) for x in range(K)])\n",
    "  topk_relevance_indices_df['buyer_ID'] = topk_relevance_indices_df.index\n",
    "  topk_relevance_indices_df['top_rlvnt_itm'] = topk_relevance_indices_df[['top_indx_'+str(x+1) for x in range(K)]].values.tolist()\n",
    "  topk_relevance_indices_df = topk_relevance_indices_df[['buyer_ID','top_rlvnt_itm']]\n",
    "\n",
    "  # measure overlap between recommended (top-scoring) and held-out user-item \n",
    "  # interactions\n",
    "  test_interacted_items = test_data.groupby('buyer_id_idx')['item_id_idx'].apply(list).reset_index()\n",
    "  metrics_df = pd.merge(test_interacted_items,topk_relevance_indices_df, how= 'left', left_on = 'buyer_id_idx',right_on = ['buyer_ID'])\n",
    "  metrics_df['intrsctn_itm'] = [list(set(a).intersection(b)) for a, b in zip(metrics_df.item_id_idx, metrics_df.top_rlvnt_itm)]\n",
    "\n",
    "  metrics_df['recall'] = metrics_df.apply(lambda x : len(x['intrsctn_itm'])/len(x['item_id_idx']), axis = 1) \n",
    "  metrics_df['precision'] = metrics_df.apply(lambda x : len(x['intrsctn_itm'])/K, axis = 1)\n",
    "\n",
    "  return metrics_df['recall'].mean(), metrics_df['precision'].mean()"
   ]
  },
  {
   "cell_type": "code",
   "execution_count": 21,
   "id": "42e9fd11",
   "metadata": {},
   "outputs": [],
   "source": [
    "# training setting\n",
    "latent_dim = 64\n",
    "n_layers = 3 \n",
    "\n",
    "EPOCHS = 50\n",
    "BATCH_SIZE = 1024\n",
    "DECAY = 0.0001\n",
    "LR = 0.005 \n",
    "K = 5"
   ]
  },
  {
   "cell_type": "code",
   "execution_count": 22,
   "id": "fba9837d",
   "metadata": {},
   "outputs": [],
   "source": [
    "# define training process\n",
    "def train_and_eval(model, optimizer, train_df):\n",
    "  loss_list_epoch = []\n",
    "  bpr_loss_list_epoch = []\n",
    "  reg_loss_list_epoch = []\n",
    "\n",
    "  recall_list = []\n",
    "  precision_list = []\n",
    "\n",
    "  for epoch in tqdm(range(EPOCHS)):\n",
    "      n_batch = int(len(train)/BATCH_SIZE)\n",
    "    \n",
    "      final_loss_list = []\n",
    "      bpr_loss_list = []\n",
    "      reg_loss_list = []\n",
    "    \n",
    "      model.train()\n",
    "      for batch_idx in range(n_batch):\n",
    "\n",
    "          optimizer.zero_grad()\n",
    "\n",
    "          users, pos_items, neg_items = data_loader(train_df, BATCH_SIZE, n_users, n_items)\n",
    "          users_emb, pos_emb, neg_emb, userEmb0,  posEmb0, negEmb0 = model.encode_minibatch(users, pos_items, neg_items, train_edge_index)\n",
    "\n",
    "          bpr_loss, reg_loss = compute_bpr_loss(\n",
    "            users, users_emb, pos_emb, neg_emb, userEmb0,  posEmb0, negEmb0\n",
    "          )\n",
    "          reg_loss = DECAY * reg_loss\n",
    "          final_loss = bpr_loss + reg_loss\n",
    "\n",
    "          final_loss.backward()\n",
    "          optimizer.step()\n",
    "\n",
    "          final_loss_list.append(final_loss.item())\n",
    "          bpr_loss_list.append(bpr_loss.item())\n",
    "          reg_loss_list.append(reg_loss.item())\n",
    "\n",
    "      model.eval()\n",
    "      with torch.no_grad():\n",
    "          _, out = model(train_edge_index)\n",
    "          final_user_Embed, final_item_Embed = torch.split(out, (n_users, n_items))\n",
    "          test_topK_recall,  test_topK_precision = get_metrics(\n",
    "            final_user_Embed, final_item_Embed, n_users, n_items, train_df, test_df, K\n",
    "          )\n",
    "\n",
    "      loss_list_epoch.append(round(np.mean(final_loss_list),4))\n",
    "      bpr_loss_list_epoch.append(round(np.mean(bpr_loss_list),4))\n",
    "      reg_loss_list_epoch.append(round(np.mean(reg_loss_list),4))\n",
    "\n",
    "      recall_list.append(round(test_topK_recall,4))\n",
    "      precision_list.append(round(test_topK_precision,4))\n",
    "\n",
    "  return (\n",
    "    loss_list_epoch, \n",
    "    bpr_loss_list_epoch, \n",
    "    reg_loss_list_epoch, \n",
    "    recall_list, \n",
    "    precision_list\n",
    "  )"
   ]
  },
  {
   "cell_type": "code",
   "execution_count": 23,
   "id": "59cb914c",
   "metadata": {},
   "outputs": [
    {
     "name": "stdout",
     "output_type": "stream",
     "text": [
      "Size of Learnable Embedding :  [torch.Size([10813, 64])]\n"
     ]
    }
   ],
   "source": [
    "# LightGCN training\n",
    "lightgcn = RecSysGNN(\n",
    "  latent_dim=latent_dim, \n",
    "  num_layers=n_layers,\n",
    "  num_users=n_users,\n",
    "  num_items=n_items,\n",
    "  model='LightGCN'\n",
    ")\n",
    "lightgcn.to(device)\n",
    "\n",
    "optimizer = torch.optim.Adam(lightgcn.parameters(), lr=LR)\n",
    "print(\"Size of Learnable Embedding : \", [x.shape for x in list(lightgcn.parameters())])"
   ]
  },
  {
   "cell_type": "code",
   "execution_count": 24,
   "id": "1703cabd",
   "metadata": {},
   "outputs": [
    {
     "data": {
      "application/vnd.jupyter.widget-view+json": {
       "model_id": "21e20b5617a24ac3b909af351fe5e9ca",
       "version_major": 2,
       "version_minor": 0
      },
      "text/plain": [
       "  0%|          | 0/50 [00:00<?, ?it/s]"
      ]
     },
     "metadata": {},
     "output_type": "display_data"
    }
   ],
   "source": [
    "light_loss, light_bpr, light_reg, light_recall, light_precision = train_and_eval(lightgcn, optimizer, train_df)"
   ]
  },
  {
   "cell_type": "code",
   "execution_count": 25,
   "id": "4a6243f4",
   "metadata": {},
   "outputs": [],
   "source": [
    "epoch_list = [(i+1) for i in range(EPOCHS)]"
   ]
  },
  {
   "cell_type": "code",
   "execution_count": 26,
   "id": "06fc47f3",
   "metadata": {},
   "outputs": [
    {
     "data": {
      "text/plain": [
       "<matplotlib.legend.Legend at 0x2b95f440f550>"
      ]
     },
     "execution_count": 26,
     "metadata": {},
     "output_type": "execute_result"
    },
    {
     "data": {
      "image/png": "[encoded data removed]",
      "text/plain": [
       "<Figure size 432x288 with 1 Axes>"
      ]
     },
     "metadata": {
      "needs_background": "light"
     },
     "output_type": "display_data"
    }
   ],
   "source": [
    "# Plot the leanring curve of LightGCN\n",
    "plt.plot(epoch_list, light_bpr, label='BPR Training Loss')\n",
    "\n",
    "\n",
    "plt.xlabel('Epoch')\n",
    "plt.ylabel('Loss')\n",
    "plt.title('LightGCN')\n",
    "plt.legend()"
   ]
  },
  {
   "cell_type": "code",
   "execution_count": 27,
   "id": "af050b36",
   "metadata": {},
   "outputs": [
    {
     "data": {
      "text/plain": [
       "<matplotlib.legend.Legend at 0x2b95dffaf8e0>"
      ]
     },
     "execution_count": 27,
     "metadata": {},
     "output_type": "execute_result"
    },
    {
     "data": {
      "image/png": "[encoded data removed]",
      "text/plain": [
       "<Figure size 432x288 with 1 Axes>"
      ]
     },
     "metadata": {
      "needs_background": "light"
     },
     "output_type": "display_data"
    }
   ],
   "source": [
    "# Plot recall and precision with GCN\n",
    "plt.plot(epoch_list, light_recall, label='Recall')\n",
    "plt.plot(epoch_list, light_precision, label='Precision')\n",
    "plt.xlabel('Epoch')\n",
    "plt.ylabel('Metrics')\n",
    "plt.legend()"
   ]
  },
  {
   "cell_type": "code",
   "execution_count": 28,
   "id": "3a9ade64",
   "metadata": {},
   "outputs": [
    {
     "name": "stdout",
     "output_type": "stream",
     "text": [
      "Size of Learnable Embedding :  [torch.Size([10813, 64]), torch.Size([64, 64]), torch.Size([64]), torch.Size([64, 64]), torch.Size([64]), torch.Size([64, 64]), torch.Size([64]), torch.Size([64, 64]), torch.Size([64]), torch.Size([64, 64]), torch.Size([64]), torch.Size([64, 64]), torch.Size([64])]\n"
     ]
    }
   ],
   "source": [
    "#NGCF training\n",
    "ngcf = RecSysGNN(\n",
    "  latent_dim=latent_dim, \n",
    "  num_layers=n_layers,\n",
    "  num_users=n_users,\n",
    "  num_items=n_items,\n",
    "  model='NGCF'\n",
    ")\n",
    "ngcf.to(device)\n",
    "\n",
    "optimizer = torch.optim.Adam(ngcf.parameters(), lr=LR)\n",
    "print(\"Size of Learnable Embedding : \", [x.shape for x in list(ngcf.parameters())])"
   ]
  },
  {
   "cell_type": "code",
   "execution_count": 29,
   "id": "37f13b26",
   "metadata": {},
   "outputs": [
    {
     "data": {
      "application/vnd.jupyter.widget-view+json": {
       "model_id": "40186826ab0f4f6f997cf899b1df31f7",
       "version_major": 2,
       "version_minor": 0
      },
      "text/plain": [
       "  0%|          | 0/50 [00:00<?, ?it/s]"
      ]
     },
     "metadata": {},
     "output_type": "display_data"
    }
   ],
   "source": [
    "ngcf_loss, ngcf_bpr, ngcf_reg, ngcf_recall, ngcf_precision = train_and_eval(ngcf, optimizer, train_df)"
   ]
  },
  {
   "cell_type": "code",
   "execution_count": 30,
   "id": "21f509f8",
   "metadata": {},
   "outputs": [],
   "source": [
    "epoch_list = [(i+1) for i in range(EPOCHS)]"
   ]
  },
  {
   "cell_type": "code",
   "execution_count": 31,
   "id": "0da49a64",
   "metadata": {},
   "outputs": [
    {
     "data": {
      "text/plain": [
       "<matplotlib.legend.Legend at 0x2b95f5e51d30>"
      ]
     },
     "execution_count": 31,
     "metadata": {},
     "output_type": "execute_result"
    },
    {
     "data": {
      "image/png": "[encoded data removed]",
      "text/plain": [
       "<Figure size 432x288 with 1 Axes>"
      ]
     },
     "metadata": {
      "needs_background": "light"
     },
     "output_type": "display_data"
    }
   ],
   "source": [
    "# Plot training curve\n",
    "plt.plot(epoch_list, ngcf_bpr, label='BPR Training Loss')\n",
    "\n",
    "\n",
    "plt.xlabel('Epoch')\n",
    "plt.ylabel('Loss')\n",
    "plt.title('NGCF')\n",
    "plt.legend()"
   ]
  },
  {
   "cell_type": "code",
   "execution_count": 32,
   "id": "b342a108",
   "metadata": {},
   "outputs": [
    {
     "data": {
      "text/plain": [
       "<matplotlib.legend.Legend at 0x2b95f5e93460>"
      ]
     },
     "execution_count": 32,
     "metadata": {},
     "output_type": "execute_result"
    },
    {
     "data": {
      "image/png": "[encoded data removed]",
      "text/plain": [
       "<Figure size 432x288 with 1 Axes>"
      ]
     },
     "metadata": {
      "needs_background": "light"
     },
     "output_type": "display_data"
    }
   ],
   "source": [
    "# Plot evaluation and recall of NGCF\n",
    "plt.plot(epoch_list, ngcf_recall, label='Recall')\n",
    "plt.plot(epoch_list, ngcf_precision, label='Precision')\n",
    "plt.xlabel('Epoch')\n",
    "plt.ylabel('Metrics')\n",
    "plt.legend()"
   ]
  },
  {
   "cell_type": "code",
   "execution_count": 33,
   "id": "7e3c5734",
   "metadata": {},
   "outputs": [
    {
     "data": {
      "text/plain": [
       "(0.0744, 0.2282)"
      ]
     },
     "execution_count": 33,
     "metadata": {},
     "output_type": "execute_result"
    }
   ],
   "source": [
    "# Compare the max precision of the two models. \n",
    "max(light_precision), max(light_recall)"
   ]
  },
  {
   "cell_type": "code",
   "execution_count": 34,
   "id": "a160e24f",
   "metadata": {},
   "outputs": [
    {
     "data": {
      "text/plain": [
       "(0.0468, 0.1421)"
      ]
     },
     "execution_count": 34,
     "metadata": {},
     "output_type": "execute_result"
    }
   ],
   "source": [
    "max(ngcf_precision), max(ngcf_recall)"
   ]
  },
  {
   "cell_type": "code",
   "execution_count": null,
   "id": "8933b553",
   "metadata": {},
   "outputs": [],
   "source": []
  }
 ],
 "metadata": {
  "kernelspec": {
   "display_name": "Python 3 (ipykernel)",
   "language": "python",
   "name": "python3"
  },
  "language_info": {
   "codemirror_mode": {
    "name": "ipython",
    "version": 3
   },
   "file_extension": ".py",
   "mimetype": "text/x-python",
   "name": "python",
   "nbconvert_exporter": "python",
   "pygments_lexer": "ipython3",
   "version": "3.9.12"
  }
 },
 "nbformat": 4,
 "nbformat_minor": 5
}
