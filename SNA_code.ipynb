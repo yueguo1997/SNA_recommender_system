{
  "nbformat": 4,
  "nbformat_minor": 0,
  "metadata": {
    "colab": {
      "provenance": [],
      "include_colab_link": true
    },
    "kernelspec": {
      "name": "python3",
      "display_name": "Python 3"
    },
    "language_info": {
      "name": "python"
    }
  },
  "cells": [
    {
      "cell_type": "markdown",
      "metadata": {
        "id": "view-in-github",
        "colab_type": "text"
      },
      "source": [
        "<a href=\"https://colab.research.google.com/github/yueguo1997/SNA_recommender_system/blob/main/SNA_code.ipynb\" target=\"_parent\"><img src=\"https://colab.research.google.com/assets/colab-badge.svg\" alt=\"Open In Colab\"/></a>"
      ]
    },
    {
      "cell_type": "code",
      "execution_count": 1,
      "metadata": {
        "id": "CxLs-GOjze7f"
      },
      "outputs": [],
      "source": [
        "from google.colab import drive\n",
        "import os\n",
        "import pandas as pd\n",
        "from sklearn.model_selection import train_test_split\n",
        "import numpy as np\n",
        "import torch"
      ]
    },
    {
      "cell_type": "code",
      "source": [
        "drive.mount('/content/drive')"
      ],
      "metadata": {
        "colab": {
          "base_uri": "https://localhost:8080/"
        },
        "id": "xOJSLQSZbbcD",
        "outputId": "d8d70bf1-866d-498a-8223-4de769b64443"
      },
      "execution_count": 4,
      "outputs": [
        {
          "output_type": "stream",
          "name": "stdout",
          "text": [
            "Drive already mounted at /content/drive; to attempt to forcibly remount, call drive.mount(\"/content/drive\", force_remount=True).\n"
          ]
        }
      ]
    },
    {
      "cell_type": "markdown",
      "source": [
        "# Data preparation"
      ],
      "metadata": {
        "id": "ae1QTGlobdkw"
      }
    },
    {
      "cell_type": "code",
      "source": [
        "cur_path = \"/content/drive/My Drive/SNA final project/\"\n",
        "os.chdir(cur_path)\n",
        "!pwd"
      ],
      "metadata": {
        "colab": {
          "base_uri": "https://localhost:8080/"
        },
        "id": "Tx_uaIA_-i2v",
        "outputId": "56327443-ff49-4f06-803f-c41225f1fc04"
      },
      "execution_count": 2,
      "outputs": [
        {
          "output_type": "stream",
          "name": "stdout",
          "text": [
            "/content/drive/My Drive/SNA final project\n"
          ]
        }
      ]
    },
    {
      "cell_type": "code",
      "source": [
        "# Reading in datasets/book1.csv\n",
        "df = pd.read_csv('bonanza_buyer_item_seller_id_R_2.txt', sep='::', header=None, names=['buyer', 'item', 'seller', 'timestamp'])\n",
        "\n",
        "# Printing out the head of the dataset\n",
        "# split the data into train and test\n",
        "train_data, test_data = train_test_split(df, test_size=0.2, random_state=42)"
      ],
      "metadata": {
        "colab": {
          "base_uri": "https://localhost:8080/"
        },
        "id": "9jjobgw1zvAI",
        "outputId": "8bba29f0-9e10-427f-91c3-373888f322d5"
      },
      "execution_count": 3,
      "outputs": [
        {
          "output_type": "stream",
          "name": "stderr",
          "text": [
            "<ipython-input-3-8e4ad435eb4a>:2: ParserWarning: Falling back to the 'python' engine because the 'c' engine does not support regex separators (separators > 1 char and different from '\\s+' are interpreted as regex); you can avoid this warning by specifying engine='python'.\n",
            "  df = pd.read_csv('bonanza_buyer_item_seller_id_R_2.txt', sep='::', header=None, names=['buyer', 'item', 'seller', 'timestamp'])\n"
          ]
        }
      ]
    },
    {
      "cell_type": "markdown",
      "source": [
        "# Create Graph"
      ],
      "metadata": {
        "id": "0C0SoNQTbi0s"
      }
    },
    {
      "cell_type": "code",
      "source": [
        "import networkx as nx\n",
        "import csv"
      ],
      "metadata": {
        "id": "FwGQPpOdAEQD"
      },
      "execution_count": 5,
      "outputs": []
    },
    {
      "cell_type": "code",
      "source": [
        "# give each node unique node id\n",
        "nodes_type = ['buyer', 'item', 'seller']\n",
        "index = 0\n",
        "\n",
        "dictionary = {}\n",
        "for t in nodes_type:\n",
        "  for i in range(len(df)):\n",
        "    if (df[t][i],t) not in dictionary:\n",
        "      dictionary[(df[t][i],t)] = index\n",
        "      index += 1\n",
        "\n",
        "\n"
      ],
      "metadata": {
        "id": "OMKAiLhX_1mz"
      },
      "execution_count": 9,
      "outputs": []
    },
    {
      "cell_type": "code",
      "source": [
        "G_train = nx.MultiGraph()\n",
        "G_test = nx.MultiGraph()\n",
        "\n",
        "for i in range(len(train_data)):\n",
        "  "
      ],
      "metadata": {
        "id": "IjFxW5qaB1Bh"
      },
      "execution_count": null,
      "outputs": []
    },
    {
      "cell_type": "code",
      "source": [
        "\n",
        "\n",
        "# Add nodes for buyers, items, and sellers\n",
        "for node_type in ['buyer', 'item', 'seller']:\n",
        "    nodes1 = train_data[node_type].unique()\n",
        "    nodes2 = test_data[node_type].unique()\n",
        "    for node in nodes1:\n",
        "      \n",
        "        G_train.add_node(node, type=node_type)\n",
        "    for node in nodes2:\n",
        "      if node == 482:\n",
        "        print(node_type)\n",
        "        G_test.add_node(node, type=node_type)\n",
        "\n",
        "# Add edges for interactions\n",
        "for _, row in train_data.iterrows():\n",
        "    buyer = row['buyer']\n",
        "    item = row['item']\n",
        "    seller = row['seller']\n",
        "    time = row['timestamp']\n",
        "    G_train.add_edge(buyer, item, type='buys', timestamp = time)\n",
        "    G_train.add_edge(item, seller, type='sold_by')\n",
        "for _, row in test_data.iterrows():\n",
        "    buyer = row['buyer']\n",
        "    item = row['item']\n",
        "    seller = row['seller']\n",
        "    time = row['timestamp']\n",
        "    G_test.add_edge(buyer, item, type='buys', timestamp = time)\n",
        "    G_test.add_edge(item, seller, type='sold_by')"
      ],
      "metadata": {
        "id": "wYocIgp30SxC",
        "colab": {
          "base_uri": "https://localhost:8080/"
        },
        "outputId": "28af9e26-9131-4a01-be58-c2d10f4967fd"
      },
      "execution_count": 159,
      "outputs": [
        {
          "output_type": "stream",
          "name": "stdout",
          "text": [
            "buyer\n",
            "item\n",
            "seller\n"
          ]
        }
      ]
    },
    {
      "cell_type": "code",
      "source": [
        "# Print some statistics about the graph\n",
        "print(\"Number of nodes on train:\", G_train.number_of_nodes())\n",
        "print(\"Number of edges on train:\", G_train.number_of_edges())\n",
        "print(\"Number of unique edge types on train:\", len(set(nx.get_edge_attributes(G_train, 'type').values())))\n",
        "\n",
        "print(\"Number of nodes on test:\", G_test.number_of_nodes())\n",
        "print(\"Number of edges on test:\", G_test.number_of_edges())\n",
        "print(\"Number of unique edge types on test:\", len(set(nx.get_edge_attributes(G_test, 'type').values())))"
      ],
      "metadata": {
        "colab": {
          "base_uri": "https://localhost:8080/"
        },
        "id": "Qpse6QMY3sEP",
        "outputId": "fb25e8b2-f68e-46b8-8d96-8074ee765c9c"
      },
      "execution_count": 153,
      "outputs": [
        {
          "output_type": "stream",
          "name": "stdout",
          "text": [
            "Number of nodes on train: 8501\n",
            "Number of edges on train: 62560\n",
            "Number of unique edge types on train: 2\n",
            "Number of nodes on test: 5297\n",
            "Number of edges on test: 15640\n",
            "Number of unique edge types on test: 2\n"
          ]
        }
      ]
    },
    {
      "cell_type": "code",
      "source": [],
      "metadata": {
        "id": "5pWUezsJBNnj"
      },
      "execution_count": 153,
      "outputs": []
    },
    {
      "cell_type": "code",
      "source": [],
      "metadata": {
        "id": "eugG8rn8BNqG"
      },
      "execution_count": null,
      "outputs": []
    },
    {
      "cell_type": "markdown",
      "source": [
        "# Node embedding vased on deepwalk"
      ],
      "metadata": {
        "id": "IOgVpnnpNRfC"
      }
    },
    {
      "cell_type": "code",
      "source": [],
      "metadata": {
        "id": "Gw85nrSd11RL"
      },
      "execution_count": 164,
      "outputs": []
    },
    {
      "cell_type": "markdown",
      "source": [
        "# Model training"
      ],
      "metadata": {
        "id": "WctcP4JXbu7M"
      }
    },
    {
      "cell_type": "code",
      "source": [
        "# Define the GNN model\n",
        "class GNN(torch.nn.Module):\n",
        "    def __init__(self):\n",
        "        super(GNN, self).__init__()\n",
        "        self.conv1 = GATConv(in_channels=16, out_channels=32, heads=4)\n",
        "        self.conv2 = GATConv(in_channels=32, out_channels=1, heads=1)\n",
        "\n",
        "    def forward(self, x, edge_index):\n",
        "        x = self.conv1(x, edge_index)\n",
        "        x = F.relu(x)\n",
        "        x = F.dropout(x, p=0.5, training=self.training)\n",
        "        x = self.conv2(x, edge_index)\n",
        "        return torch.sigmoid(x)\n",
        "\n"
      ],
      "metadata": {
        "id": "TsSUB0XOox1W"
      },
      "execution_count": 164,
      "outputs": []
    },
    {
      "cell_type": "code",
      "source": [
        "# Define the training loop\n",
        "def train(model, optimizer, x, y, edge_index):\n",
        "    model.train()\n",
        "    optimizer.zero_grad()\n",
        "    out = model(x, edge_index)\n",
        "    loss = F.binary_cross_entropy(out, y)\n",
        "    loss.backward()\n",
        "    optimizer.step()\n",
        "    return loss.item()\n",
        "\n",
        "# Define the test loop\n",
        "def test(model, x, y, edge_index):\n",
        "    model.eval()\n",
        "    with torch.no_grad():\n",
        "        out = model(x, edge_index)\n",
        "        pred = (out > 0.5).float()\n",
        "        acc = (pred == y).sum().item() / y.size(0)\n",
        "    return acc\n",
        "\n"
      ],
      "metadata": {
        "id": "FQZeK0oNeGKp"
      },
      "execution_count": 165,
      "outputs": []
    },
    {
      "cell_type": "code",
      "source": [
        "# Prepare the data\n",
        "x = torch.randn(len(buyer) + len(seller) + len(item), 16)\n",
        "y = torch.cat([torch.ones(len(buyer)), torch.zeros(len(seller) + len(item))])\n",
        "data = Data(x=x, edge_index=edge_index, y=y)\n",
        "\n",
        "# Initialize the model and optimizer\n",
        "model = GNN()\n",
        "optimizer = torch.optim.Adam(model.parameters(), lr=0.01)\n",
        "\n",
        "# Train the model\n",
        "for epoch in range(200):\n",
        "    loss = train(model, optimizer, data.x, data.y, data.edge_index)\n",
        "    acc = test(model, data.x, data.y, data.edge_index)\n",
        "    print(f'Epoch: {epoch + 1}, Loss: {loss:.4f}, Accuracy: {acc:.4f}')"
      ],
      "metadata": {
        "id": "Z9zwk_6TeGMs"
      },
      "execution_count": null,
      "outputs": []
    },
    {
      "cell_type": "code",
      "source": [
        "G_train.nodes[0]"
      ],
      "metadata": {
        "id": "gWTv2kkheGPC",
        "outputId": "1beb8020-a9d2-44bc-fefb-49999a523ddf",
        "colab": {
          "base_uri": "https://localhost:8080/"
        }
      },
      "execution_count": 167,
      "outputs": [
        {
          "output_type": "execute_result",
          "data": {
            "text/plain": [
              "{'type': 'seller'}"
            ]
          },
          "metadata": {},
          "execution_count": 167
        }
      ]
    },
    {
      "cell_type": "code",
      "source": [],
      "metadata": {
        "id": "5Qxo39Hr96BK"
      },
      "execution_count": null,
      "outputs": []
    }
  ]
}