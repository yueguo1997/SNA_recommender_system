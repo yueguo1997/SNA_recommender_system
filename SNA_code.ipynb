{
  "nbformat": 4,
  "nbformat_minor": 0,
  "metadata": {
    "colab": {
      "provenance": [],
      "include_colab_link": true
    },
    "kernelspec": {
      "name": "python3",
      "display_name": "Python 3"
    },
    "language_info": {
      "name": "python"
    }
  },
  "cells": [
    {
      "cell_type": "markdown",
      "metadata": {
        "id": "view-in-github",
        "colab_type": "text"
      },
      "source": [
        "<a href=\"https://colab.research.google.com/github/yueguo1997/SNA_recommender_system/blob/main/SNA_code.ipynb\" target=\"_parent\"><img src=\"https://colab.research.google.com/assets/colab-badge.svg\" alt=\"Open In Colab\"/></a>"
      ]
    },
    {
      "cell_type": "code",
      "execution_count": 36,
      "metadata": {
        "id": "CxLs-GOjze7f"
      },
      "outputs": [],
      "source": [
        "from google.colab import drive\n",
        "import os\n",
        "import pandas as pd\n",
        "from sklearn.model_selection import train_test_split"
      ]
    },
    {
      "cell_type": "code",
      "source": [
        "drive.mount('/content/drive')"
      ],
      "metadata": {
        "id": "xOJSLQSZbbcD"
      },
      "execution_count": null,
      "outputs": []
    },
    {
      "cell_type": "markdown",
      "source": [
        "# Data preparation"
      ],
      "metadata": {
        "id": "ae1QTGlobdkw"
      }
    },
    {
      "cell_type": "code",
      "source": [
        "cur_path = \"/content/drive/My Drive/SNA final project/\"\n",
        "os.chdir(cur_path)\n",
        "!pwd"
      ],
      "metadata": {
        "id": "Tx_uaIA_-i2v",
        "outputId": "62eaa935-ec44-4e6c-f41f-fcefa85ca527",
        "colab": {
          "base_uri": "https://localhost:8080/"
        }
      },
      "execution_count": 5,
      "outputs": [
        {
          "output_type": "stream",
          "name": "stdout",
          "text": [
            "/content/drive/My Drive/SNA final project\n"
          ]
        }
      ]
    },
    {
      "cell_type": "code",
      "source": [
        "# Reading in datasets/book1.csv\n",
        "df = pd.read_csv('bonanza_buyer_item_seller_id_R_2.txt', sep='::', header=None, names=['buyer', 'item', 'seller', 'timestamp'])\n",
        "\n",
        "# Printing out the head of the dataset\n",
        "# split the data into train and test\n",
        "train_data, test_data = train_test_split(df, test_size=0.2, random_state=42)"
      ],
      "metadata": {
        "colab": {
          "base_uri": "https://localhost:8080/"
        },
        "id": "9jjobgw1zvAI",
        "outputId": "cb1990aa-56bf-437d-c4b7-435a1461af0d"
      },
      "execution_count": 37,
      "outputs": [
        {
          "output_type": "stream",
          "name": "stderr",
          "text": [
            "<ipython-input-37-8e4ad435eb4a>:2: ParserWarning: Falling back to the 'python' engine because the 'c' engine does not support regex separators (separators > 1 char and different from '\\s+' are interpreted as regex); you can avoid this warning by specifying engine='python'.\n",
            "  df = pd.read_csv('bonanza_buyer_item_seller_id_R_2.txt', sep='::', header=None, names=['buyer', 'item', 'seller', 'timestamp'])\n"
          ]
        }
      ]
    },
    {
      "cell_type": "code",
      "source": [],
      "metadata": {
        "id": "ZQoOIirrbiP-"
      },
      "execution_count": null,
      "outputs": []
    },
    {
      "cell_type": "markdown",
      "source": [
        "# Create Graph"
      ],
      "metadata": {
        "id": "0C0SoNQTbi0s"
      }
    },
    {
      "cell_type": "code",
      "source": [
        "import networkx as nx\n",
        "import csv\n",
        "G_train = nx.MultiGraph()\n",
        "G_test = nx.MultiGraph()\n",
        "# Add nodes for buyers, items, and sellers\n",
        "for node_type in ['buyer', 'item', 'seller']:\n",
        "    nodes1 = train_data[node_type].unique()\n",
        "    nodes2 = train_data[node_type].unique()\n",
        "    for node in nodes1:\n",
        "        G_train.add_node(node, type=node_type)\n",
        "    for node in nodes2:\n",
        "        G_test.add_node(node, type=node_type)\n",
        "\n",
        "# Add edges for interactions\n",
        "for _, row in train_data.iterrows():\n",
        "    buyer = row['buyer']\n",
        "    item = row['item']\n",
        "    seller = row['seller']\n",
        "    G_train.add_edge(buyer, item, type='buys')\n",
        "    G_train.add_edge(item, seller, type='sold_by')\n",
        "for _, row in test_data.iterrows():\n",
        "    buyer = row['buyer']\n",
        "    item = row['item']\n",
        "    seller = row['seller']\n",
        "    G_test.add_edge(buyer, item, type='buys')\n",
        "    G_test.add_edge(item, seller, type='sold_by')"
      ],
      "metadata": {
        "id": "wYocIgp30SxC"
      },
      "execution_count": 38,
      "outputs": []
    },
    {
      "cell_type": "code",
      "source": [
        "# Print some statistics about the graph\n",
        "print(\"Number of nodes on train:\", G_train.number_of_nodes())\n",
        "print(\"Number of edges on train:\", G_train.number_of_edges())\n",
        "print(\"Number of unique edge types on train:\", len(set(nx.get_edge_attributes(G_train, 'type').values())))\n",
        "\n",
        "print(\"Number of nodes on test:\", G_test.number_of_nodes())\n",
        "print(\"Number of edges on test:\", G_test.number_of_edges())\n",
        "print(\"Number of unique edge types on test:\", len(set(nx.get_edge_attributes(G_test, 'type').values())))"
      ],
      "metadata": {
        "colab": {
          "base_uri": "https://localhost:8080/"
        },
        "id": "Qpse6QMY3sEP",
        "outputId": "d9ccf855-7daf-4ebf-9c8b-9cc5b343aabc"
      },
      "execution_count": 40,
      "outputs": [
        {
          "output_type": "stream",
          "name": "stdout",
          "text": [
            "Number of nodes on train: 8501\n",
            "Number of edges on train: 62560\n",
            "Number of unique edge types on train: 2\n",
            "Number of nodes on test: 8922\n",
            "Number of edges on test: 15640\n",
            "Number of unique edge types on test: 2\n"
          ]
        }
      ]
    },
    {
      "cell_type": "code",
      "source": [],
      "metadata": {
        "id": "5pWUezsJBNnj"
      },
      "execution_count": null,
      "outputs": []
    },
    {
      "cell_type": "code",
      "source": [],
      "metadata": {
        "id": "eugG8rn8BNqG"
      },
      "execution_count": null,
      "outputs": []
    },
    {
      "cell_type": "markdown",
      "source": [
        "# Node embedding vased on deepwalk"
      ],
      "metadata": {
        "id": "IOgVpnnpNRfC"
      }
    },
    {
      "cell_type": "code",
      "source": [
        "from gensim.models import Word2Vec\n",
        "import random\n"
      ],
      "metadata": {
        "id": "WujAjb4YBNsL"
      },
      "execution_count": 18,
      "outputs": []
    },
    {
      "cell_type": "code",
      "source": [
        "def random_walks(graph, num_walks, walk_length):\n",
        "    walks = []\n",
        "    nodes = list(graph.nodes())\n",
        "    for _ in range(num_walks):\n",
        "        random.shuffle(nodes)\n",
        "        for node in nodes:\n",
        "            walk = [node]\n",
        "            while len(walk) < walk_length:\n",
        "                neighbors = list(graph.neighbors(walk[-1]))\n",
        "                if neighbors:\n",
        "                    walk.append(random.choice(neighbors))\n",
        "                else:\n",
        "                    break\n",
        "            walks.append([str(node) for node in walk])\n",
        "    return walks"
      ],
      "metadata": {
        "id": "72Vt1xkhBNuR"
      },
      "execution_count": 19,
      "outputs": []
    },
    {
      "cell_type": "code",
      "source": [
        "# Learn node embeddings using DeepWalk\n",
        "walks_train = random_walks(G_train, num_walks=10, walk_length=80)\n",
        "model = Word2Vec(walks_train, vector_size=128, window=5, min_count=0, sg=1, workers=4)\n",
        "\n",
        "# Get the embeddings for the nodes\n",
        "node_embeddings = {str(node): model.wv[str(node)] for node in G_train.nodes()}"
      ],
      "metadata": {
        "id": "aNlnGKFNBNwX"
      },
      "execution_count": 43,
      "outputs": []
    },
    {
      "cell_type": "code",
      "source": [
        "len(node_embeddings)"
      ],
      "metadata": {
        "id": "6Nx56E_AP0Z5",
        "outputId": "cecae806-e6be-42cc-d778-ee5aa2b93c87",
        "colab": {
          "base_uri": "https://localhost:8080/"
        }
      },
      "execution_count": 44,
      "outputs": [
        {
          "output_type": "execute_result",
          "data": {
            "text/plain": [
              "8501"
            ]
          },
          "metadata": {},
          "execution_count": 44
        }
      ]
    },
    {
      "cell_type": "markdown",
      "source": [
        "# Model training"
      ],
      "metadata": {
        "id": "WctcP4JXbu7M"
      }
    },
    {
      "cell_type": "code",
      "source": [],
      "metadata": {
        "id": "k-pBqGAabwFf"
      },
      "execution_count": null,
      "outputs": []
    }
  ]
}