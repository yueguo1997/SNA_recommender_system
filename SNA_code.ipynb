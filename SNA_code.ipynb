{
  "nbformat": 4,
  "nbformat_minor": 0,
  "metadata": {
    "colab": {
      "provenance": [],
      "include_colab_link": true
    },
    "kernelspec": {
      "name": "python3",
      "display_name": "Python 3"
    },
    "language_info": {
      "name": "python"
    }
  },
  "cells": [
    {
      "cell_type": "markdown",
      "metadata": {
        "id": "view-in-github",
        "colab_type": "text"
      },
      "source": [
        "<a href=\"https://colab.research.google.com/github/yueguo1997/SNA_recommender_system/blob/main/SNA_code.ipynb\" target=\"_parent\"><img src=\"https://colab.research.google.com/assets/colab-badge.svg\" alt=\"Open In Colab\"/></a>"
      ]
    },
    {
      "cell_type": "code",
      "execution_count": null,
      "metadata": {
        "colab": {
          "base_uri": "https://localhost:8080/"
        },
        "id": "CxLs-GOjze7f",
        "outputId": "20935621-7c41-4f62-b338-bcaeac828e77"
      },
      "outputs": [
        {
          "output_type": "stream",
          "name": "stdout",
          "text": [
            "Mounted at /content/drive\n",
            "/content/drive/My Drive/Colab Notebooks\n"
          ]
        }
      ],
      "source": [
        "from google.colab import drive\n",
        "drive.mount('/content/drive')\n",
        "import os\n",
        "cur_path = \"/content/drive/My Drive/Colab Notebooks/\"\n",
        "os.chdir(cur_path)\n",
        "!pwd"
      ]
    },
    {
      "cell_type": "code",
      "source": [
        "import pandas as pd\n",
        "\n",
        "# Reading in datasets/book1.csv\n",
        "df = pd.read_csv('bonanza_buyer_item_seller_id_R_2.txt', sep='::', header=None, names=['buyer', 'item', 'seller', 'r2'])\n",
        "\n",
        "# Printing out the head of the dataset\n",
        "print(df.head())"
      ],
      "metadata": {
        "colab": {
          "base_uri": "https://localhost:8080/"
        },
        "id": "9jjobgw1zvAI",
        "outputId": "0d6f0ec4-cafb-468d-efc9-c9e0f1f89c89"
      },
      "execution_count": null,
      "outputs": [
        {
          "output_type": "stream",
          "name": "stderr",
          "text": [
            "<ipython-input-12-5551388837b0>:4: ParserWarning: Falling back to the 'python' engine because the 'c' engine does not support regex separators (separators > 1 char and different from '\\s+' are interpreted as regex); you can avoid this warning by specifying engine='python'.\n",
            "  df = pd.read_csv('bonanza_buyer_item_seller_id_R_2.txt', sep='::', header=None, names=['buyer', 'item', 'seller', 'r2'])\n"
          ]
        },
        {
          "output_type": "stream",
          "name": "stdout",
          "text": [
            "   buyer  item  seller            r2\n",
            "0      0     0       0  1.548565e+09\n",
            "1      0     0       1  1.548565e+09\n",
            "2      1     0       2  1.539144e+09\n",
            "3      2     0       3  1.528690e+09\n",
            "4      3     0       3  1.547701e+09\n"
          ]
        }
      ]
    },
    {
      "cell_type": "code",
      "source": [
        "import networkx as nx\n",
        "import csv\n",
        "G = nx.MultiGraph()\n",
        "\n",
        "# Add nodes for buyers, items, and sellers\n",
        "for node_type in ['buyer', 'item', 'seller']:\n",
        "    nodes = df[node_type].unique()\n",
        "    for node in nodes:\n",
        "        G.add_node(node, type=node_type)\n",
        "\n",
        "# Add edges for interactions\n",
        "for _, row in df.iterrows():\n",
        "    buyer = row['buyer']\n",
        "    item = row['item']\n",
        "    seller = row['seller']\n",
        "    G.add_edge(buyer, item, type='buys')\n",
        "    G.add_edge(item, seller, type='sold_by')"
      ],
      "metadata": {
        "id": "wYocIgp30SxC"
      },
      "execution_count": null,
      "outputs": []
    },
    {
      "cell_type": "code",
      "source": [
        "# Print some statistics about the graph\n",
        "print(\"Number of nodes:\", G.number_of_nodes())\n",
        "print(\"Number of edges:\", G.number_of_edges())\n",
        "print(\"Number of unique edge types:\", len(set(nx.get_edge_attributes(G, 'type').values())))"
      ],
      "metadata": {
        "colab": {
          "base_uri": "https://localhost:8080/"
        },
        "id": "Qpse6QMY3sEP",
        "outputId": "07157db3-7624-4f61-8840-b87818f04411"
      },
      "execution_count": null,
      "outputs": [
        {
          "output_type": "stream",
          "name": "stdout",
          "text": [
            "Number of nodes: 8922\n",
            "Number of edges: 78200\n",
            "Number of unique edge types: 2\n"
          ]
        }
      ]
    },
    {
      "cell_type": "code",
      "source": [
        "78200/8922"
      ],
      "metadata": {
        "colab": {
          "base_uri": "https://localhost:8080/"
        },
        "id": "UFBO7a-m4z5x",
        "outputId": "d460a233-73b5-48f0-adb7-bf7389777b54"
      },
      "execution_count": null,
      "outputs": [
        {
          "output_type": "execute_result",
          "data": {
            "text/plain": [
              "8.76485093028469"
            ]
          },
          "metadata": {},
          "execution_count": 18
        }
      ]
    },
    {
      "cell_type": "code",
      "source": [
        "import torch\n",
        "from torch_geometric.nn import MessagePassing\n",
        "from torch_geometric.utils import add_self_loops, degree\n",
        "\n",
        "# Define the Graph Convolutional Network (GCN) layer\n",
        "class GCNConv(MessagePassing):\n",
        "    def __init__(self, in_channels, out_channels):\n",
        "        super(GCNConv, self).__init__(aggr='add')  # \"Add\" aggregation.\n",
        "        self.lin = torch.nn.Linear(in_channels, out_channels)\n",
        "\n",
        "    def forward(self, x, edge_index):\n",
        "        # Step 1: Add self-loops to the adjacency matrix.\n",
        "        edge_index, _ = add_self_loops(edge_index, num_nodes=x.size(0))\n",
        "\n",
        "        # Step 2: Linearly transform node feature matrix.\n",
        "        x = self.lin(x)\n",
        "\n",
        "        # Step 3: Compute normalization term.\n",
        "        row, col = edge_index\n",
        "        deg = degree(col, x.size(0), dtype=x.dtype)\n",
        "        deg_inv_sqrt = deg.pow(-0.5)\n",
        "        norm = deg_inv_sqrt[row] * deg_inv_sqrt[col]\n",
        "\n",
        "        # Step 4: Propagate the node features through the graph.\n",
        "        return self.propagate(edge_index, x=x, norm=norm)\n",
        "\n",
        "    def message(self, x_j, norm):\n",
        "        # Normalize node features.\n",
        "        return norm.view(-1, 1) * x_j\n",
        "\n",
        "# Convert the NetworkX graph to PyTorch Geometric format\n",
        "from torch_geometric.data import Data\n",
        "\n",
        "x = torch.tensor([[1], [2], [3]])  # Feature matrix\n",
        "y = torch.tensor([0, 1, 0])  # Target labels\n",
        "edges = [(u, v) for u, v in G.edges()]  # Edge list\n",
        "edge_index = torch.tensor(edges, dtype=torch.long).t().contiguous()  # Transpose edge list\n",
        "data = Data(x=x, edge_index=edge_index, y=y)\n",
        "\n",
        "# Create a GCN model and train it on the data\n",
        "from torch_geometric.nn import GCNConv, Sequential, ReLU\n",
        "from torch.nn import Linear\n",
        "\n",
        "model = Sequential(\n",
        "    GCNConv(1, 16),\n",
        "    ReLU(),\n",
        "    GCNConv(16, 1)\n",
        ")\n",
        "optimizer = torch.optim.Adam(model.parameters(), lr=0.01)\n",
        "criterion = torch.nn.MSELoss()\n",
        "\n",
        "model.train()\n",
        "optimizer.zero_grad()\n",
        "out = model(data.x.float(), data.edge_index)\n",
        "loss = criterion(out[data.train_mask], data.y[data.train_mask])\n",
        "loss.backward()\n",
        "optimizer.step()\n",
        "\n",
        "# Predict the ratings for all edges in the graph\n",
        "model.eval()\n",
        "with torch.no_grad():\n",
        "    ratings = model(data.x.float(), data.edge_index).detach().numpy().squeeze()\n",
        "\n",
        "# Add the predicted ratings as an edge attribute to the NetworkX graph\n",
        "nx.set_edge_attributes(G, values=dict(zip(edges, ratings)), name='rating')\n"
      ],
      "metadata": {
        "id": "Wkhst2Mj5TGf"
      },
      "execution_count": null,
      "outputs": []
    },
    {
      "cell_type": "code",
      "source": [
        "import pandas as pd\n",
        "import numpy as np\n",
        "\n",
        "# Load the predicted ratings as a Pandas DataFrame\n",
        "edges = list(G.edges())\n",
        "ratings = nx.get_edge_attributes(G, 'rating')\n",
        "ratings_df = pd.DataFrame({'buyer': [e[0] for e in edges], 'item': [e[1] for e in edges], 'predicted_rating': list(ratings.values())})\n",
        "\n",
        "# Split the ratings data into training and testing sets\n",
        "from sklearn.model_selection import train_test_split\n",
        "\n",
        "train_ratings, test_ratings = train_test_split(ratings_df, test_size=0.2, random_state=42)\n",
        "\n",
        "# Convert the ratings data to PyTorch Geometric format\n",
        "x_train = torch.tensor(train_ratings[['buyer', 'item']].values, dtype=torch.long).t().contiguous()\n",
        "y_train = torch.tensor(train_ratings['predicted_rating'].values, dtype=torch.float)\n",
        "x_test = torch.tensor(test_ratings[['buyer', 'item']].values, dtype=torch.long).t().contiguous()\n",
        "y_test = torch.tensor(test_ratings['predicted_rating'].values, dtype=torch.float)\n",
        "data_train = Data(x=x_train, y=y_train)\n",
        "data_test = Data(x=x_test, y=y_test)\n",
        "\n",
        "# Define a Graph Neural Network (GNN) for rating prediction\n",
        "from torch_geometric.nn import GATConv, global_mean_pool\n",
        "from torch.nn import Linear, ReLU\n",
        "\n",
        "class GNN(torch.nn.Module):\n",
        "    def __init__(self, num_users, num_items, hidden_channels):\n",
        "        super(GNN, self).__init__()\n",
        "        self.conv1 = GATConv(num_users + num_items, hidden_channels)\n",
        "        self.conv2 = GATConv(hidden_channels, hidden_channels)\n",
        "        self.lin1 = Linear(hidden_channels, hidden_channels)\n",
        "        self.lin2 = Linear(hidden_channels, 1)\n",
        "\n",
        "    def forward(self, x, edge_index):\n",
        "        x = torch.cat([x, global_mean_pool(x, torch.zeros(x.shape[0], dtype=torch.long, device=x.device))], dim=1)\n",
        "        x = ReLU()(self.conv1(x, edge_index))\n",
        "        x = ReLU()(self.conv2(x, edge_index))\n",
        "        x = global_mean_pool(x, torch.zeros(x.shape[0], dtype=torch.long, device=x.device))\n",
        "        x = ReLU()(self.lin1(x))\n",
        "        x = self.lin2(x)\n",
        "        return x\n",
        "\n",
        "# Train the GNN on the ratings data\n",
        "model = GNN(num_users=len(buyers), num_items=len(items), hidden_channels=64)\n",
        "optimizer = torch.optim.Adam(model.parameters(), lr=0.01)\n",
        "criterion = torch.nn.MSELoss()\n",
        "\n",
        "model.train()\n",
        "for epoch in range(100):\n",
        "    optimizer.zero_grad()\n",
        "    out = model(data_train.x.long(), data_train.edge_index)\n",
        "    loss = criterion(out, data_train.y)\n",
        "    loss.backward()\n",
        "    optimizer.step()\n",
        "\n",
        "# Generate recommendations for a specific buyer\n",
        "buyer_id = 1  # ID of the buyer to generate recommendations for\n",
        "buyer_items = set(buyers[buyers['buyer'] == buyer_id]['item'])  # Items the buyer has already purchased\n",
        "\n",
        "# Create a mask for the test set that only includes items the buyer has not purchased\n",
        "test_mask = np.logical_not(test_ratings['item'].isin(buyer_items)).values\n",
        "\n",
        "# Use the trained GNN to predict ratings for the test set\n",
        "model.eval()\n",
        "with torch.no_grad():\n",
        "    test_preds = model(data_test.x.long(), data_test.edge_index).detach().numpy().squeeze()\n",
        "    test_ratings.loc[test_mask, 'predicted_rating'] = test_preds[test_mask]\n",
        "\n",
        "# Generate a list of\n",
        "buyer_test_ratings = test_ratings[test_ratings['buyer'] == buyer_id]\n",
        "buyer_test_ratings = buyer_test_ratings.sort_values(by='predicted_rating', ascending=False)\n",
        "recommended_items = list(buyer_test_ratings['item'].values)\n",
        "\n",
        "print(\"Recommended items for buyer {}: {}\".format(buyer_id, recommended_items))\n",
        "\n",
        "# Evaluate the performance of the recommendation system\n",
        "from sklearn.metrics import mean_squared_error\n",
        "\n",
        "mse = mean_squared_error(test_ratings['predicted_rating'], test_ratings['r2'])\n",
        "print(\"Mean Squared Error: {:.4f}\".format(mse))"
      ],
      "metadata": {
        "id": "LmBhSPRzLz-5"
      },
      "execution_count": null,
      "outputs": []
    }
  ]
}