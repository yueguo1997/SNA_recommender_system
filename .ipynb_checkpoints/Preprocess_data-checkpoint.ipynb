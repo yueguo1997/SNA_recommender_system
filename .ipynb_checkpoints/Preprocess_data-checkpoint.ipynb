{
 "cells": [
  {
   "cell_type": "markdown",
   "metadata": {
    "colab_type": "text",
    "id": "view-in-github"
   },
   "source": [
    "<a href=\"https://colab.research.google.com/github/yueguo1997/SNA_recommender_system/blob/main/SNA_code.ipynb\" target=\"_parent\"><img src=\"https://colab.research.google.com/assets/colab-badge.svg\" alt=\"Open In Colab\"/></a>"
   ]
  },
  {
   "cell_type": "code",
   "execution_count": 41,
   "metadata": {
    "id": "CxLs-GOjze7f"
   },
   "outputs": [],
   "source": [
    "#package import\n",
    "from google.colab import drive\n",
    "import os\n",
    "import pandas as pd\n",
    "from sklearn.model_selection import train_test_split\n",
    "import numpy as np\n",
    "import torch"
   ]
  },
  {
   "cell_type": "code",
   "execution_count": 42,
   "metadata": {
    "colab": {
     "base_uri": "https://localhost:8080/"
    },
    "id": "xOJSLQSZbbcD",
    "outputId": "67de258c-1dca-436f-e273-9ed47ea7514b"
   },
   "outputs": [
    {
     "name": "stdout",
     "output_type": "stream",
     "text": [
      "Drive already mounted at /content/drive; to attempt to forcibly remount, call drive.mount(\"/content/drive\", force_remount=True).\n"
     ]
    }
   ],
   "source": [
    "drive.mount('/content/drive')"
   ]
  },
  {
   "cell_type": "markdown",
   "metadata": {
    "id": "ae1QTGlobdkw"
   },
   "source": [
    "# Data preparation"
   ]
  },
  {
   "cell_type": "code",
   "execution_count": 43,
   "metadata": {
    "colab": {
     "base_uri": "https://localhost:8080/"
    },
    "id": "Tx_uaIA_-i2v",
    "outputId": "6402a790-15d8-43e2-dafd-7587804e7d8e"
   },
   "outputs": [
    {
     "name": "stdout",
     "output_type": "stream",
     "text": [
      "/content/drive/My Drive/SNA final project\n"
     ]
    }
   ],
   "source": [
    "#get the data path\n",
    "cur_path = \"/content/drive/My Drive/SNA final project/\"\n",
    "os.chdir(cur_path)\n",
    "!pwd"
   ]
  },
  {
   "cell_type": "code",
   "execution_count": 44,
   "metadata": {
    "colab": {
     "base_uri": "https://localhost:8080/"
    },
    "id": "9jjobgw1zvAI",
    "outputId": "e8d0053e-95e5-428a-b074-5fd414b7d964"
   },
   "outputs": [
    {
     "name": "stderr",
     "output_type": "stream",
     "text": [
      "<ipython-input-44-90b1d1afe9ae>:2: ParserWarning: Falling back to the 'python' engine because the 'c' engine does not support regex separators (separators > 1 char and different from '\\s+' are interpreted as regex); you can avoid this warning by specifying engine='python'.\n",
      "  df = pd.read_csv('bonanza_buyer_item_seller_id_R_2.txt', sep='::', header=None, names=['buyer', 'item', 'seller', 'timestamp'])\n"
     ]
    }
   ],
   "source": [
    "# Reading in datasets/book1.csv\n",
    "df = pd.read_csv('bonanza_buyer_item_seller_id_R_2.txt', sep='::', header=None, names=['buyer', 'item', 'seller', 'timestamp'])\n",
    "\n",
    "# Printing out the head of the dataset\n",
    "# split the data into train and test\n",
    "train_data, test_data = train_test_split(df, test_size=0.2)"
   ]
  },
  {
   "cell_type": "markdown",
   "metadata": {
    "id": "0C0SoNQTbi0s"
   },
   "source": [
    "# Create Graph"
   ]
  },
  {
   "cell_type": "code",
   "execution_count": 45,
   "metadata": {
    "id": "FwGQPpOdAEQD"
   },
   "outputs": [],
   "source": [
    "import networkx as nx\n",
    "import csv"
   ]
  },
  {
   "cell_type": "code",
   "execution_count": 46,
   "metadata": {
    "id": "OMKAiLhX_1mz"
   },
   "outputs": [],
   "source": [
    "# give each node unique node id\n",
    "nodes_type = ['buyer', 'item', 'seller']\n",
    "index = 0\n",
    "\n",
    "dictionary = {}\n",
    "for t in nodes_type:\n",
    "  for i in range(len(df)):\n",
    "    if (df[t][i],t) not in dictionary:\n",
    "      dictionary[(df[t][i],t)] = index\n",
    "      index += 1\n",
    "\n",
    "\n"
   ]
  },
  {
   "cell_type": "code",
   "execution_count": 47,
   "metadata": {
    "id": "IjFxW5qaB1Bh"
   },
   "outputs": [],
   "source": [
    "# Add nodes for buyers, items, and sellers to train graph\n",
    "G_train = nx.MultiGraph()\n",
    "G_test = nx.MultiGraph()\n",
    "\n",
    "for t in nodes_type:\n",
    "  for i in train_data[t].unique():\n",
    "     G_train.add_node(dictionary[(i,t)], type=t, number = i)\n",
    "  "
   ]
  },
  {
   "cell_type": "code",
   "execution_count": 48,
   "metadata": {
    "id": "TcgWBGEAEkeJ"
   },
   "outputs": [],
   "source": [
    "# Add nodes for buyers, items, and sellers to test graph\n",
    "for t in nodes_type:\n",
    "  for i in test_data[t].unique():\n",
    "     G_test.add_node(dictionary[(i,t)], type=t, number = i)"
   ]
  },
  {
   "cell_type": "code",
   "execution_count": 51,
   "metadata": {
    "id": "Zff9knNkFDpb"
   },
   "outputs": [],
   "source": [
    "#Add edges to the train graph\n",
    "for _, row in train_data.iterrows():\n",
    "  buyer = int(row['buyer'])\n",
    "  item = int(row['item'])\n",
    "  seller = int(row['seller'])\n",
    "  time = row['timestamp']\n",
    "  G_train.add_edge(dictionary[(buyer,'buyer')], dictionary[(item,'item')], type='buys', timestamp = time)\n",
    "  G_train.add_edge(dictionary[(item,'item')], dictionary[(seller,'seller')], type='sold_by')\n"
   ]
  },
  {
   "cell_type": "code",
   "execution_count": 52,
   "metadata": {
    "id": "rWx6HROEGGqx"
   },
   "outputs": [],
   "source": [
    "#Add edges to the test graph\n",
    "for _, row in test_data.iterrows():\n",
    "  buyer = int(row['buyer'])\n",
    "  item = int(row['item'])\n",
    "  seller = int(row['seller'])\n",
    "  time = row['timestamp']\n",
    "  G_test.add_edge(dictionary[(buyer,'buyer')], dictionary[(item,'item')], type='buys', timestamp = time)\n",
    "  G_test.add_edge(dictionary[(item,'item')], dictionary[(seller,'seller')], type='sold_by')\n"
   ]
  },
  {
   "cell_type": "code",
   "execution_count": 56,
   "metadata": {
    "id": "JjxiEDpWGpAr"
   },
   "outputs": [],
   "source": [
    "# generate a dictionary for the model result find the corresponding product and seller\n",
    "output_d = {}\n",
    "for i in dictionary:\n",
    "  output_d[dictionary[i]] = i\n"
   ]
  },
  {
   "cell_type": "code",
   "execution_count": 58,
   "metadata": {
    "colab": {
     "base_uri": "https://localhost:8080/"
    },
    "id": "cnLqhlDGHgzD",
    "outputId": "37c1d7de-3381-4416-e8f7-bef62561b4a4"
   },
   "outputs": [
    {
     "name": "stdout",
     "output_type": "stream",
     "text": [
      "Number of nodes on train: 14925\n",
      "Number of edges on train: 62560\n",
      "Number of unique edge types on train: 2\n",
      "Number of nodes on test: 7625\n",
      "Number of edges on test: 15640\n",
      "Number of unique edge types on test: 2\n"
     ]
    }
   ],
   "source": [
    "# Print some statistics about the graph\n",
    "print(\"Number of nodes on train:\", G_train.number_of_nodes())\n",
    "print(\"Number of edges on train:\", G_train.number_of_edges())\n",
    "print(\"Number of unique edge types on train:\", len(set(nx.get_edge_attributes(G_train, 'type').values())))\n",
    "\n",
    "print(\"Number of nodes on test:\", G_test.number_of_nodes())\n",
    "print(\"Number of edges on test:\", G_test.number_of_edges())\n",
    "print(\"Number of unique edge types on test:\", len(set(nx.get_edge_attributes(G_test, 'type').values())))"
   ]
  },
  {
   "cell_type": "code",
   "execution_count": 66,
   "metadata": {
    "colab": {
     "base_uri": "https://localhost:8080/"
    },
    "id": "YV0NVriKHkhR",
    "outputId": "19070380-07e2-427c-f657-cf4ea7a01258"
   },
   "outputs": [
    {
     "name": "stdout",
     "output_type": "stream",
     "text": [
      "Number of seller nodes on train: 3686\n",
      "Number of buyer nodes on train: 8355\n",
      "Number of item nodes on train: 2884\n",
      "Number of seller nodes on test: 1880\n",
      "Number of buyer nodes on test: 4150\n",
      "Number of item nodes on test: 1595\n"
     ]
    }
   ],
   "source": [
    "# Check the number of different nodes\n",
    "print(\"Number of seller nodes on train:\", len([n for n, attr in G_train.nodes(data=True) if attr['type'] == 'seller']))\n",
    "print(\"Number of buyer nodes on train:\", len([n for n, attr in G_train.nodes(data=True) if attr['type'] == 'buyer']))\n",
    "print(\"Number of item nodes on train:\", len([n for n, attr in G_train.nodes(data=True) if attr['type'] == 'item']))\n",
    "print(\"Number of seller nodes on test:\", len([n for n, attr in G_test.nodes(data=True) if attr['type'] == 'seller']))\n",
    "print(\"Number of buyer nodes on test:\", len([n for n, attr in G_test.nodes(data=True) if attr['type'] == 'buyer']))\n",
    "print(\"Number of item nodes on test:\", len([n for n, attr in G_test.nodes(data=True) if attr['type'] == 'item']))"
   ]
  },
  {
   "cell_type": "code",
   "execution_count": 69,
   "metadata": {
    "colab": {
     "base_uri": "https://localhost:8080/"
    },
    "id": "uYje7NwBIbAD",
    "outputId": "31a02943-39bb-4d7a-d8f6-caf1ad037a4e"
   },
   "outputs": [
    {
     "name": "stdout",
     "output_type": "stream",
     "text": [
      "Number of sold by edges on train: 31280\n",
      "Number of buy edges on train: 31280\n",
      "Number of sold by edges  on test: 7820\n",
      "Number of buy edges on test: 7820\n"
     ]
    }
   ],
   "source": [
    "# Check the number of different nodes\n",
    "print(\"Number of sold by edges on train:\", len([n for n,v, attr in G_train.edges(data=True) if attr['type'] == 'sold_by']))\n",
    "print(\"Number of buy edges on train:\", len([n for n,vars, attr in G_train.edges(data=True) if attr['type'] == 'buys']))\n",
    "print(\"Number of sold by edges  on test:\", len([n for n,v, attr in G_test.edges(data=True) if attr['type'] == 'sold_by']))\n",
    "print(\"Number of buy edges on test:\", len([n for n,v, attr in G_test.edges(data=True) if attr['type'] == 'buys']))\n"
   ]
  },
  {
   "cell_type": "code",
   "execution_count": null,
   "metadata": {
    "id": "JKATbHwdK8VF"
   },
   "outputs": [],
   "source": []
  },
  {
   "cell_type": "markdown",
   "metadata": {
    "id": "CYJeLtLsK8jH"
   },
   "source": [
    "# Write graph data"
   ]
  },
  {
   "cell_type": "code",
   "execution_count": 72,
   "metadata": {
    "id": "FHENpmX3LAfO"
   },
   "outputs": [],
   "source": [
    "# write the train data graph\n",
    "nx.write_graphml(G_train, \"train.graphml\")"
   ]
  },
  {
   "cell_type": "code",
   "execution_count": 73,
   "metadata": {
    "id": "65-sNDU7LA0T"
   },
   "outputs": [],
   "source": [
    "# write the test data graph\n",
    "nx.write_graphml(G_test, \"test.graphml\")"
   ]
  },
  {
   "cell_type": "code",
   "execution_count": 75,
   "metadata": {
    "id": "RQ34FMb1LH34"
   },
   "outputs": [],
   "source": [
    "G_train = nx.read_graphml(\"train.graphml\")\n",
    "G_test = nx.read_graphml(\"test.graphml\")"
   ]
  },
  {
   "cell_type": "code",
   "execution_count": 76,
   "metadata": {
    "colab": {
     "base_uri": "https://localhost:8080/"
    },
    "id": "-3DVYL8_LSTV",
    "outputId": "f40e9f93-92cb-4aad-8c3b-194aa1e06bec"
   },
   "outputs": [
    {
     "name": "stdout",
     "output_type": "stream",
     "text": [
      "Number of seller nodes on train: 3686\n",
      "Number of buyer nodes on train: 8355\n",
      "Number of item nodes on train: 2884\n",
      "Number of seller nodes on test: 1880\n",
      "Number of buyer nodes on test: 4150\n",
      "Number of item nodes on test: 1595\n",
      "Number of sold by edges on train: 31280\n",
      "Number of buy edges on train: 31280\n",
      "Number of sold by edges  on test: 7820\n",
      "Number of buy edges on test: 7820\n"
     ]
    }
   ],
   "source": [
    "print(\"Number of seller nodes on train:\", len([n for n, attr in G_train.nodes(data=True) if attr['type'] == 'seller']))\n",
    "print(\"Number of buyer nodes on train:\", len([n for n, attr in G_train.nodes(data=True) if attr['type'] == 'buyer']))\n",
    "print(\"Number of item nodes on train:\", len([n for n, attr in G_train.nodes(data=True) if attr['type'] == 'item']))\n",
    "print(\"Number of seller nodes on test:\", len([n for n, attr in G_test.nodes(data=True) if attr['type'] == 'seller']))\n",
    "print(\"Number of buyer nodes on test:\", len([n for n, attr in G_test.nodes(data=True) if attr['type'] == 'buyer']))\n",
    "print(\"Number of item nodes on test:\", len([n for n, attr in G_test.nodes(data=True) if attr['type'] == 'item']))\n",
    "print(\"Number of sold by edges on train:\", len([n for n,v, attr in G_train.edges(data=True) if attr['type'] == 'sold_by']))\n",
    "print(\"Number of buy edges on train:\", len([n for n,vars, attr in G_train.edges(data=True) if attr['type'] == 'buys']))\n",
    "print(\"Number of sold by edges  on test:\", len([n for n,v, attr in G_test.edges(data=True) if attr['type'] == 'sold_by']))\n",
    "print(\"Number of buy edges on test:\", len([n for n,v, attr in G_test.edges(data=True) if attr['type'] == 'buys']))"
   ]
  },
  {
   "cell_type": "code",
   "execution_count": null,
   "metadata": {
    "id": "5Qxo39Hr96BK"
   },
   "outputs": [],
   "source": []
  },
  {
   "cell_type": "markdown",
   "metadata": {
    "id": "vlNxPz6NLs1g"
   },
   "source": [
    "# wirte dictionary data"
   ]
  },
  {
   "cell_type": "code",
   "execution_count": 77,
   "metadata": {
    "id": "x693BaLkLvmX"
   },
   "outputs": [],
   "source": [
    "import json"
   ]
  },
  {
   "cell_type": "code",
   "execution_count": 83,
   "metadata": {
    "id": "BVmF2vvjLxk8"
   },
   "outputs": [],
   "source": [
    "df = pd.DataFrame(output_d)\n",
    "df.to_csv('dictionary.csv')"
   ]
  },
  {
   "cell_type": "code",
   "execution_count": 82,
   "metadata": {
    "colab": {
     "base_uri": "https://localhost:8080/",
     "height": 141
    },
    "id": "6xugxypOMmeK",
    "outputId": "cc709deb-d174-4d24-8a00-70afd4b9c54a"
   },
   "outputs": [
    {
     "data": {
      "text/html": [
       "\n",
       "  <div id=\"df-47190ef5-a352-4590-87bd-91b997fefa7f\">\n",
       "    <div class=\"colab-df-container\">\n",
       "      <div>\n",
       "<style scoped>\n",
       "    .dataframe tbody tr th:only-of-type {\n",
       "        vertical-align: middle;\n",
       "    }\n",
       "\n",
       "    .dataframe tbody tr th {\n",
       "        vertical-align: top;\n",
       "    }\n",
       "\n",
       "    .dataframe thead th {\n",
       "        text-align: right;\n",
       "    }\n",
       "</style>\n",
       "<table border=\"1\" class=\"dataframe\">\n",
       "  <thead>\n",
       "    <tr style=\"text-align: right;\">\n",
       "      <th></th>\n",
       "      <th>0</th>\n",
       "      <th>1</th>\n",
       "      <th>2</th>\n",
       "      <th>3</th>\n",
       "      <th>4</th>\n",
       "      <th>5</th>\n",
       "      <th>6</th>\n",
       "      <th>7</th>\n",
       "      <th>8</th>\n",
       "      <th>9</th>\n",
       "      <th>...</th>\n",
       "      <th>16087</th>\n",
       "      <th>16088</th>\n",
       "      <th>16089</th>\n",
       "      <th>16090</th>\n",
       "      <th>16091</th>\n",
       "      <th>16092</th>\n",
       "      <th>16093</th>\n",
       "      <th>16094</th>\n",
       "      <th>16095</th>\n",
       "      <th>16096</th>\n",
       "    </tr>\n",
       "  </thead>\n",
       "  <tbody>\n",
       "    <tr>\n",
       "      <th>0</th>\n",
       "      <td>0</td>\n",
       "      <td>1</td>\n",
       "      <td>2</td>\n",
       "      <td>3</td>\n",
       "      <td>4</td>\n",
       "      <td>5</td>\n",
       "      <td>6</td>\n",
       "      <td>7</td>\n",
       "      <td>8</td>\n",
       "      <td>9</td>\n",
       "      <td>...</td>\n",
       "      <td>4046</td>\n",
       "      <td>4047</td>\n",
       "      <td>4048</td>\n",
       "      <td>4049</td>\n",
       "      <td>4050</td>\n",
       "      <td>4051</td>\n",
       "      <td>4052</td>\n",
       "      <td>4053</td>\n",
       "      <td>4054</td>\n",
       "      <td>4055</td>\n",
       "    </tr>\n",
       "    <tr>\n",
       "      <th>1</th>\n",
       "      <td>buyer</td>\n",
       "      <td>buyer</td>\n",
       "      <td>buyer</td>\n",
       "      <td>buyer</td>\n",
       "      <td>buyer</td>\n",
       "      <td>buyer</td>\n",
       "      <td>buyer</td>\n",
       "      <td>buyer</td>\n",
       "      <td>buyer</td>\n",
       "      <td>buyer</td>\n",
       "      <td>...</td>\n",
       "      <td>seller</td>\n",
       "      <td>seller</td>\n",
       "      <td>seller</td>\n",
       "      <td>seller</td>\n",
       "      <td>seller</td>\n",
       "      <td>seller</td>\n",
       "      <td>seller</td>\n",
       "      <td>seller</td>\n",
       "      <td>seller</td>\n",
       "      <td>seller</td>\n",
       "    </tr>\n",
       "  </tbody>\n",
       "</table>\n",
       "<p>2 rows × 16097 columns</p>\n",
       "</div>\n",
       "      <button class=\"colab-df-convert\" onclick=\"convertToInteractive('df-47190ef5-a352-4590-87bd-91b997fefa7f')\"\n",
       "              title=\"Convert this dataframe to an interactive table.\"\n",
       "              style=\"display:none;\">\n",
       "        \n",
       "  <svg xmlns=\"http://www.w3.org/2000/svg\" height=\"24px\"viewBox=\"0 0 24 24\"\n",
       "       width=\"24px\">\n",
       "    <path d=\"M0 0h24v24H0V0z\" fill=\"none\"/>\n",
       "    <path d=\"M18.56 5.44l.94 2.06.94-2.06 2.06-.94-2.06-.94-.94-2.06-.94 2.06-2.06.94zm-11 1L8.5 8.5l.94-2.06 2.06-.94-2.06-.94L8.5 2.5l-.94 2.06-2.06.94zm10 10l.94 2.06.94-2.06 2.06-.94-2.06-.94-.94-2.06-.94 2.06-2.06.94z\"/><path d=\"M17.41 7.96l-1.37-1.37c-.4-.4-.92-.59-1.43-.59-.52 0-1.04.2-1.43.59L10.3 9.45l-7.72 7.72c-.78.78-.78 2.05 0 2.83L4 21.41c.39.39.9.59 1.41.59.51 0 1.02-.2 1.41-.59l7.78-7.78 2.81-2.81c.8-.78.8-2.07 0-2.86zM5.41 20L4 18.59l7.72-7.72 1.47 1.35L5.41 20z\"/>\n",
       "  </svg>\n",
       "      </button>\n",
       "      \n",
       "  <style>\n",
       "    .colab-df-container {\n",
       "      display:flex;\n",
       "      flex-wrap:wrap;\n",
       "      gap: 12px;\n",
       "    }\n",
       "\n",
       "    .colab-df-convert {\n",
       "      background-color: #E8F0FE;\n",
       "      border: none;\n",
       "      border-radius: 50%;\n",
       "      cursor: pointer;\n",
       "      display: none;\n",
       "      fill: #1967D2;\n",
       "      height: 32px;\n",
       "      padding: 0 0 0 0;\n",
       "      width: 32px;\n",
       "    }\n",
       "\n",
       "    .colab-df-convert:hover {\n",
       "      background-color: #E2EBFA;\n",
       "      box-shadow: 0px 1px 2px rgba(60, 64, 67, 0.3), 0px 1px 3px 1px rgba(60, 64, 67, 0.15);\n",
       "      fill: #174EA6;\n",
       "    }\n",
       "\n",
       "    [theme=dark] .colab-df-convert {\n",
       "      background-color: #3B4455;\n",
       "      fill: #D2E3FC;\n",
       "    }\n",
       "\n",
       "    [theme=dark] .colab-df-convert:hover {\n",
       "      background-color: #434B5C;\n",
       "      box-shadow: 0px 1px 3px 1px rgba(0, 0, 0, 0.15);\n",
       "      filter: drop-shadow(0px 1px 2px rgba(0, 0, 0, 0.3));\n",
       "      fill: #FFFFFF;\n",
       "    }\n",
       "  </style>\n",
       "\n",
       "      <script>\n",
       "        const buttonEl =\n",
       "          document.querySelector('#df-47190ef5-a352-4590-87bd-91b997fefa7f button.colab-df-convert');\n",
       "        buttonEl.style.display =\n",
       "          google.colab.kernel.accessAllowed ? 'block' : 'none';\n",
       "\n",
       "        async function convertToInteractive(key) {\n",
       "          const element = document.querySelector('#df-47190ef5-a352-4590-87bd-91b997fefa7f');\n",
       "          const dataTable =\n",
       "            await google.colab.kernel.invokeFunction('convertToInteractive',\n",
       "                                                     [key], {});\n",
       "          if (!dataTable) return;\n",
       "\n",
       "          const docLinkHtml = 'Like what you see? Visit the ' +\n",
       "            '<a target=\"_blank\" href=https://colab.research.google.com/notebooks/data_table.ipynb>data table notebook</a>'\n",
       "            + ' to learn more about interactive tables.';\n",
       "          element.innerHTML = '';\n",
       "          dataTable['output_type'] = 'display_data';\n",
       "          await google.colab.output.renderOutput(dataTable, element);\n",
       "          const docLink = document.createElement('div');\n",
       "          docLink.innerHTML = docLinkHtml;\n",
       "          element.appendChild(docLink);\n",
       "        }\n",
       "      </script>\n",
       "    </div>\n",
       "  </div>\n",
       "  "
      ],
      "text/plain": [
       "   0      1      2      3      4      5      6      7      8      9      ...  \\\n",
       "0      0      1      2      3      4      5      6      7      8      9  ...   \n",
       "1  buyer  buyer  buyer  buyer  buyer  buyer  buyer  buyer  buyer  buyer  ...   \n",
       "\n",
       "    16087   16088   16089   16090   16091   16092   16093   16094   16095  \\\n",
       "0    4046    4047    4048    4049    4050    4051    4052    4053    4054   \n",
       "1  seller  seller  seller  seller  seller  seller  seller  seller  seller   \n",
       "\n",
       "    16096  \n",
       "0    4055  \n",
       "1  seller  \n",
       "\n",
       "[2 rows x 16097 columns]"
      ]
     },
     "execution_count": 82,
     "metadata": {},
     "output_type": "execute_result"
    }
   ],
   "source": []
  },
  {
   "cell_type": "code",
   "execution_count": 1,
   "metadata": {
    "id": "_A_Ue3krL8le"
   },
   "outputs": [
    {
     "ename": "NameError",
     "evalue": "name 'torch' is not defined",
     "output_type": "error",
     "traceback": [
      "\u001b[0;31m---------------------------------------------------------------------------\u001b[0m",
      "\u001b[0;31mNameError\u001b[0m                                 Traceback (most recent call last)",
      "Input \u001b[0;32mIn [1]\u001b[0m, in \u001b[0;36m<cell line: 1>\u001b[0;34m()\u001b[0m\n\u001b[0;32m----> 1\u001b[0m \u001b[43mtorch\u001b[49m\u001b[38;5;241m.\u001b[39mrandn((\u001b[38;5;241m4\u001b[39m, \u001b[38;5;241m10\u001b[39m))\n",
      "\u001b[0;31mNameError\u001b[0m: name 'torch' is not defined"
     ]
    }
   ],
   "source": [
    "torch.randn((4, 10))"
   ]
  },
  {
   "cell_type": "code",
   "execution_count": null,
   "metadata": {},
   "outputs": [],
   "source": []
  }
 ],
 "metadata": {
  "colab": {
   "include_colab_link": true,
   "provenance": []
  },
  "kernelspec": {
   "display_name": "Python 3 (ipykernel)",
   "language": "python",
   "name": "python3"
  },
  "language_info": {
   "codemirror_mode": {
    "name": "ipython",
    "version": 3
   },
   "file_extension": ".py",
   "mimetype": "text/x-python",
   "name": "python",
   "nbconvert_exporter": "python",
   "pygments_lexer": "ipython3",
   "version": "3.9.12"
  }
 },
 "nbformat": 4,
 "nbformat_minor": 1
}
